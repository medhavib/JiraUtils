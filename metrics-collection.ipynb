{
 "cells": [
  {
   "cell_type": "code",
   "execution_count": 532,
   "metadata": {},
   "outputs": [
    {
     "data": {
      "text/html": [
       "<h1> Set up Jira Client</h1>"
      ],
      "text/plain": [
       "<IPython.core.display.HTML object>"
      ]
     },
     "metadata": {},
     "output_type": "display_data"
    }
   ],
   "source": [
    "%%html\n",
    "<h1> Set up Jira Client</h1>"
   ]
  },
  {
   "cell_type": "code",
   "execution_count": 508,
   "metadata": {},
   "outputs": [],
   "source": [
    "from jira import JIRA\n",
    "import numpy as np\n",
    "import pandas as pd\n",
    "import xlsxwriter\n",
    "\n",
    "import json\n",
    "\n",
    "with open('jira.json') as json_data_file:\n",
    "    data = json.load(json_data_file)\n",
    "    username = data['auth']['username']\n",
    "    password = data['auth']['password']\n",
    "    bugqueryadd = data['bugqueryadd']\n",
    "    epicqueryadd = data['epicqueryadd']\n",
    "    storyqueryadd = data['storyqueryadd']\n",
    "    domain = data['domain']\n",
    "    columns = data['columns']\n",
    "    fields = data['fields']\n",
    "    outfile = data['outfile']\n",
    "\n",
    "if not domain:\n",
    "    domain = raw_input(\"Jira Domain (e.g https://XXX:PPP/jira): \")\n",
    "\n",
    "if not username:\n",
    "    username = raw_input(\"Username: \")\n",
    "\n",
    "if not password:\n",
    "    password = getpass.getpass(\"Password: \")\n",
    "   \n",
    "def get_jira_client(domain, username, password):\n",
    "    options = {'server': domain}\n",
    "    return JIRA(options, basic_auth=(username, password))\n",
    "\n",
    "def print_jira_issue(issue):\n",
    "    print (issue['key'], \":\", issue['fields']['summary'])\n",
    "    \n",
    "writer = pd.ExcelWriter(outfile)\n",
    "jira = get_jira_client(domain, username, password)"
   ]
  },
  {
   "cell_type": "code",
   "execution_count": 410,
   "metadata": {},
   "outputs": [
    {
     "data": {
      "text/html": [
       "<h1> Load Stories, Epics and Bugs</h1>"
      ],
      "text/plain": [
       "<IPython.core.display.HTML object>"
      ]
     },
     "metadata": {},
     "output_type": "display_data"
    }
   ],
   "source": [
    "%%html\n",
    "<h1> Load Stories, Epics and Bugs</h1>"
   ]
  },
  {
   "cell_type": "code",
   "execution_count": 411,
   "metadata": {},
   "outputs": [],
   "source": [
    "epics = jira.search_issues('type=epic and ' + epicqueryadd, json_result=True, maxResults=1000, fields = fields)"
   ]
  },
  {
   "cell_type": "code",
   "execution_count": 412,
   "metadata": {},
   "outputs": [],
   "source": [
    "stories = jira.search_issues('type=story and ' + storyqueryadd, json_result=True, maxResults=1000, fields = fields, expand='changelog')"
   ]
  },
  {
   "cell_type": "code",
   "execution_count": 509,
   "metadata": {},
   "outputs": [],
   "source": [
    "bugs = jira.search_issues('type=bug and ' + bugqueryadd, json_result=True, maxResults=1000, fields = fields)"
   ]
  },
  {
   "cell_type": "code",
   "execution_count": 414,
   "metadata": {},
   "outputs": [
    {
     "data": {
      "text/html": [
       "<h1> Set up the Dataframes for Stories and Epics</h1>"
      ],
      "text/plain": [
       "<IPython.core.display.HTML object>"
      ]
     },
     "metadata": {},
     "output_type": "display_data"
    }
   ],
   "source": [
    "%%html\n",
    "<h1> Set up the Dataframes for Stories and Epics</h1>"
   ]
  },
  {
   "cell_type": "code",
   "execution_count": 415,
   "metadata": {},
   "outputs": [],
   "source": [
    "#prep the stories and epics dataframes\n",
    "#fix the column names\n",
    "#extract comment data \n",
    "#extract all the history from stories and build all the workflow fields\n",
    "\n",
    "for issue in stories['issues']:\n",
    "    #merge the textual fields of comments, summary\n",
    "    alltext = [comment['body'] for comment in issue['fields']['comment']['comments']]\n",
    "    if (issue['fields']['summary'] != None):\n",
    "        alltext.append(issue['fields']['summary'])\n",
    "    if (issue['fields']['description'] != None):\n",
    "        alltext.append(issue['fields']['description'])\n",
    "    try:\n",
    "        issue['fields']['textinfo'] = ' '.join(alltext)\n",
    "    except TypeError:\n",
    "        print(alltext)\n",
    "\n",
    "    #for stories only, record the important parts of change log as separate columns\n",
    "    \n",
    "    issue['fields']['Open Set By'] = []\n",
    "    issue['fields']['Approval Set By'] = []\n",
    "    issue['fields']['Closed Set By'] = []\n",
    "    issue['fields']['Code Review Set By'] = []\n",
    "    issue['fields']['In Analysis Set By'] = []\n",
    "    issue['fields']['In Progress Set By'] = []\n",
    "    issue['fields']['In UI/UX Set By'] = []\n",
    "    issue['fields']['Ready for Estimation Set By'] = []\n",
    "    issue['fields']['Testing Set By'] = []\n",
    "    \n",
    "    changelog = issue['changelog']\n",
    "    for history in changelog['histories']:\n",
    "        for item in history['items']:\n",
    "            if item['field'] == 'status':\n",
    "                #need to ensure if there are multiple times a certain status is updated, we capture it\n",
    "                #the first or last time based on the specific status.\n",
    "                timestamp = pd.to_datetime(history['created'], format='%Y-%m-%dT%H:%M:%S.%f', errors='coerce')\n",
    "                event = item['toString'] + ' ' + 'Set By'\n",
    "                author = history['author']['name']\n",
    "                issue['fields'][event].append((author, timestamp))\n",
    "                #issue['fields'][item['toString'] + ' ' + 'Set To Date'] = history['created']\n",
    "                #issue['fields'][item['toString'] + ' ' + 'Set By'] = history['author']['name']\n",
    "                \n",
    "    issue['fields']['Open Set By'] = min(issue['fields']['Open Set By'], key = lambda t: t[1]) if issue['fields']['Open Set By'] else None\n",
    "    issue['fields']['Approval Set By'] = max(issue['fields']['Approval Set By'], key = lambda t: t[1]) if issue['fields']['Approval Set By'] else None\n",
    "    issue['fields']['Closed Set By'] = max(issue['fields']['Closed Set By'], key = lambda t: t[1]) if issue['fields']['Closed Set By'] else None\n",
    "    issue['fields']['Code Review Set By'] = min(issue['fields']['Code Review Set By'], key = lambda t: t[1]) if issue['fields']['Code Review Set By'] else None\n",
    "    issue['fields']['In Analysis Set By'] = min(issue['fields']['In Analysis Set By'], key = lambda t: t[1]) if issue['fields']['In Analysis Set By'] else None\n",
    "    issue['fields']['In Progress Set By'] = min(issue['fields']['In Progress Set By'], key = lambda t: t[1]) if issue['fields']['In Progress Set By'] else None\n",
    "    issue['fields']['In UI/UX Set By'] = min(issue['fields']['In UI/UX Set By'], key = lambda t: t[1]) if issue['fields']['In UI/UX Set By'] else None\n",
    "    issue['fields']['Ready for Estimation Set By'] = min(issue['fields']['Ready for Estimation Set By'], key = lambda t: t[1]) if issue['fields']['Ready for Estimation Set By'] else None\n",
    "    issue['fields']['Testing Set By'] = min(issue['fields']['Testing Set By'], key = lambda t: t[1]) if issue['fields']['Testing Set By'] else None\n",
    "\n",
    "    issue['fields']['Open Set To Date'] = issue['fields']['Open Set By'][1] if issue['fields']['Open Set By'] else None\n",
    "    issue['fields']['Open Set By'] = issue['fields']['Open Set By'][0] if issue['fields']['Open Set By'] else None\n",
    "    \n",
    "    issue['fields']['Approval Set To Date'] = issue['fields']['Approval Set By'][1] if issue['fields']['Approval Set By'] else None\n",
    "    issue['fields']['Approval Set By'] = issue['fields']['Approval Set By'][0] if issue['fields']['Approval Set By'] else None\n",
    "    \n",
    "    issue['fields']['Closed Set To Date'] = issue['fields']['Closed Set By'][1] if issue['fields']['Closed Set By'] else None\n",
    "    issue['fields']['Closed Set By'] = issue['fields']['Closed Set By'][0] if issue['fields']['Closed Set By'] else None\n",
    "    \n",
    "    issue['fields']['Code Review Set To Date'] = issue['fields']['Code Review Set By'][1] if issue['fields']['Code Review Set By'] else None\n",
    "    issue['fields']['Code Review Set By'] = issue['fields']['Code Review Set By'][0] if issue['fields']['Code Review Set By'] else None\n",
    "    \n",
    "    issue['fields']['In Analysis Set To Date'] = issue['fields']['In Analysis Set By'][1] if issue['fields']['In Analysis Set By'] else None\n",
    "    issue['fields']['In Analysis Set By'] = issue['fields']['In Analysis Set By'][0] if issue['fields']['In Analysis Set By'] else None\n",
    "    \n",
    "    issue['fields']['In Progress Set To Date'] = issue['fields']['In Progress Set By'][1] if issue['fields']['In Progress Set By'] else None\n",
    "    issue['fields']['In Progress Set By'] = issue['fields']['In Progress Set By'][0] if issue['fields']['In Progress Set By'] else None\n",
    "    \n",
    "    issue['fields']['In UI/UX Set To Date'] = issue['fields']['In UI/UX Set By'][1] if issue['fields']['In UI/UX Set By'] else None\n",
    "    issue['fields']['In UI/UX Set By'] = issue['fields']['In UI/UX Set By'][0] if issue['fields']['In UI/UX Set By'] else None\n",
    "    \n",
    "    issue['fields']['Ready for Estimation Set To Date'] = issue['fields']['Ready for Estimation Set By'][1] if issue['fields']['Ready for Estimation Set By'] else None\n",
    "    issue['fields']['Ready for Estimation Set By'] = issue['fields']['Ready for Estimation Set By'][0] if issue['fields']['Ready for Estimation Set By'] else None\n",
    "    \n",
    "    issue['fields']['Testing Set To Date'] = issue['fields']['Testing Set By'][1] if issue['fields']['Testing Set By'] else None\n",
    "    issue['fields']['Testing Set By'] = issue['fields']['Testing Set By'][0] if issue['fields']['Testing Set By'] else None\n",
    "    \n",
    "    \n",
    "for issue in epics['issues']:\n",
    "    alltext = [comment['body'] for comment in issue['fields']['comment']['comments']]\n",
    "    alltext.append(issue['fields']['summary'])\n",
    "    #alltext.append(issue['fields']['description'])\n",
    "    issue['fields']['textinfo'] = ' '.join(alltext)\n",
    "\n",
    "epic_list = []\n",
    "for epic in epics['issues']:\n",
    "    epic['fields']['key'] = epic['key']\n",
    "    epic_list.append(epic['fields'])\n",
    "\n",
    "epics_df = pd.DataFrame(epic_list)\n",
    "\n",
    "story_list = []\n",
    "for story in stories['issues']:\n",
    "    story['fields']['key'] = story['key']\n",
    "    story_list.append(story['fields'])\n",
    "\n",
    "stories_df = pd.DataFrame(story_list)\n",
    "\n",
    "#replacement of custom field's by their names is only done inside the dataframe\n",
    "# Fetch all fields\n",
    "allfields=jira.fields()\n",
    "# Make a map from field name -> field id\n",
    "nameMap = {field['name']:field['id'] for field in allfields}\n",
    "idMap = {field['id']:field['name'] for field in allfields}\n",
    "\n",
    "for column in epics_df.columns:\n",
    "    if ('custom' in column):\n",
    "        epics_df.rename(columns={column: idMap[column]}, inplace=True)\n",
    "\n",
    "for column in stories_df.columns:\n",
    "    if ('custom' in column):\n",
    "        stories_df.rename(columns={column: idMap[column]}, inplace=True)\n",
    "\n",
    "stories_df['Team'] = stories_df['Team'].apply(lambda x: x[0].get('value') if (type(x) == list) else None)\n",
    "stories_df['status'] = stories_df['status'].apply(lambda x: x.get('name'))\n",
    "stories_df['reporter'] = stories_df['reporter'].apply(lambda x: x.get('name'))\n",
    "stories_df['fixVersions'] = stories_df['fixVersions'].apply(lambda x: x[0]['name'] if ((type(x) == list) and x and (type(x[0]) == dict)) else None)\n",
    "stories_df['Platform'] = stories_df['Platform'].apply(lambda x: x[0].get('value'))\n",
    "\n",
    "#insert a column for jira link\n",
    "stories_df['story_link'] = '=HYPERLINK(\"' + domain + '/browse/' + stories_df['key'] + '\",\"' + stories_df['key'] + '\")'\n",
    "\n",
    "#Change the string time fields into the python datetime structures\n",
    "\n",
    "from datetime import datetime\n",
    "from datetime import timedelta\n",
    "\n",
    "#stories_df['Approval Set To Date'] = pd.to_datetime(stories_df['Approval Set To Date'], format='%Y-%m-%dT%H:%M:%S.%f', errors='coerce')\n",
    "#stories_df['Closed Set To Date'] = pd.to_datetime(stories_df['Closed Set To Date'], format='%Y-%m-%dT%H:%M:%S.%f', errors='coerce')\n",
    "#stories_df['Code Review Set To Date'] = pd.to_datetime(stories_df['Code Review Set To Date'], format='%Y-%m-%dT%H:%M:%S.%f', errors='coerce')\n",
    "#stories_df['In Analysis Set To Date'] = pd.to_datetime(stories_df['In Analysis Set To Date'], format='%Y-%m-%dT%H:%M:%S.%f', errors='coerce')\n",
    "#stories_df['In Progress Set To Date'] = pd.to_datetime(stories_df['In Progress Set To Date'], format='%Y-%m-%dT%H:%M:%S.%f', errors='coerce')\n",
    "#stories_df['In UI/UX Set To Date'] = pd.to_datetime(stories_df['In UI/UX Set To Date'], format='%Y-%m-%dT%H:%M:%S.%f', errors='coerce')\n",
    "#stories_df['Open Set To Date'] = pd.to_datetime(stories_df['Open Set To Date'], format='%Y-%m-%dT%H:%M:%S.%f', errors='coerce')\n",
    "#stories_df['Ready for Estimation Set To Date'] = pd.to_datetime(stories_df['Ready for Estimation Set To Date'], format='%Y-%m-%dT%H:%M:%S.%f', errors='coerce')\n",
    "#stories_df['Testing Set To Date'] = pd.to_datetime(stories_df['Testing Set To Date'], format='%Y-%m-%dT%H:%M:%S.%f', errors='coerce')"
   ]
  },
  {
   "cell_type": "code",
   "execution_count": 417,
   "metadata": {},
   "outputs": [
    {
     "data": {
      "text/html": [
       "<h1> Set up the Dataframes for Sprints</h1>"
      ],
      "text/plain": [
       "<IPython.core.display.HTML object>"
      ]
     },
     "metadata": {},
     "output_type": "display_data"
    }
   ],
   "source": [
    "%%html\n",
    "<h1> Set up the Dataframes for Sprints</h1>"
   ]
  },
  {
   "cell_type": "code",
   "execution_count": 418,
   "metadata": {},
   "outputs": [],
   "source": [
    "#extract the sprint information from the sprints field and create a separate sprints-issue dataframe\n",
    "#this is only possible once we have the stories dataframe\n",
    "\n",
    "from functools import reduce\n",
    "\n",
    "#Takes a list of sprints of the form:\n",
    "#['com.atlassian.greenhopper.service.sprint.Sprint@1b7eb58a[id=519,rapidViewId=219,state=CLOSED,name=Knight Riders Sprint 2018 - 22,startDate=2018-05-23T21:16:06.149+05:30,endDate=2018-06-05T19:44:00.000+05:30,completeDate=2018-06-06T20:45:27.547+05:30,sequence=519]',\n",
    "# 'com.atlassian.greenhopper.service.sprint.Sprint@2a28663d[id=542,rapidViewId=219,state=ACTIVE,name=Knight Riders Sprint 2018-23,startDate=2018-06-06T22:14:10.412+05:30,endDate=2018-06-19T20:42:00.000+05:30,completeDate=<null>,sequence=542]']\n",
    "# and returns one list with a dictionary object for each sprint located. The object also contains the issue key\n",
    "# the other is \n",
    "# we return a dictionary\n",
    "def getSprintInfo(issueKey, sprint):\n",
    "    #locate the part in square braces\n",
    "    start = sprint.find('[') + 1\n",
    "    end = sprint.find(']', start)\n",
    "    dict_sprint = dict(x.split('=') for x in sprint[start:end].split(','))\n",
    "    dict_sprint['issue_key'] = issueKey\n",
    "    return dict_sprint\n",
    "\n",
    "#we return a list of dictionaries, where each dictionary is a sprint paired with the issue.\n",
    "def getSprints (issueKey, sprints):\n",
    "    if type(sprints) == list:\n",
    "        return [getSprintInfo(issueKey, sprint) for sprint in sprints]\n",
    "    else:\n",
    "        return []\n",
    "\n",
    "x1 = []\n",
    "for index, row in stories_df.iterrows():\n",
    "    x1 = x1 + (getSprints(row['key'], row['Sprint']))\n",
    "\n",
    "sprints_df =  pd.DataFrame(x1)\n",
    "sprints_df['endDate'] = pd.to_datetime(sprints_df['endDate'], format='%Y-%m-%dT%H:%M:%S.%f', errors='coerce')\n",
    "sprints_df['startDate'] = pd.to_datetime(sprints_df['startDate'], format='%Y-%m-%dT%H:%M:%S.%f', errors='coerce')\n",
    "sprints_df['completeDate'] = pd.to_datetime(sprints_df['completeDate'], format='%Y-%m-%dT%H:%M:%S.%f', errors='coerce')"
   ]
  },
  {
   "cell_type": "code",
   "execution_count": 419,
   "metadata": {},
   "outputs": [
    {
     "data": {
      "text/html": [
       "<h1> Set up the Dataframes for Bugs</h1>"
      ],
      "text/plain": [
       "<IPython.core.display.HTML object>"
      ]
     },
     "metadata": {},
     "output_type": "display_data"
    }
   ],
   "source": [
    "%%html\n",
    "<h1> Set up the Dataframes for Bugs</h1>"
   ]
  },
  {
   "cell_type": "code",
   "execution_count": 516,
   "metadata": {},
   "outputs": [],
   "source": [
    "#prep up the bugs dataframe\n",
    "\n",
    "bugs_list = []\n",
    "for bug in bugs['issues']:\n",
    "    bug['fields']['key'] = bug['key']\n",
    "    for issuelink in bug['fields']['issuelinks']:\n",
    "        try:\n",
    "            if ((issuelink['outwardIssue']['fields']['issuetype']['name'] == 'Story') and \n",
    "            ((issuelink['type']['outward'] == 'associated with') or \n",
    "             (issuelink['type']['outward'] == 'relates to'))):\n",
    "                bug['fields']['linkKey'] = issuelink['outwardIssue']['key']\n",
    "                bug['fields']['linktype'] = issuelink['type']['outward']\n",
    "        except:\n",
    "            #print(issuelink)\n",
    "            if ((issuelink['inwardIssue']['fields']['issuetype']['name'] == 'Story') and \n",
    "            ((issuelink['type']['inward'] == 'associated with') or \n",
    "             (issuelink['type']['inward'] == 'relates to'))):\n",
    "                bug['fields']['linkKey'] = issuelink['inwardIssue']['key']\n",
    "                bug['fields']['linktype'] = issuelink['type']['inward']\n",
    "    #add each bug to bug list after updating the fields\n",
    "    bugs_list.append(bug['fields'])\n",
    "        \n",
    "bugs_df = pd.DataFrame(bugs_list)\n",
    "\n",
    "for column in bugs_df.columns:\n",
    "    if ('custom' in column):\n",
    "        bugs_df.rename(columns={column: idMap[column]}, inplace=True)\n",
    "        \n",
    "#bugs_df['Team'] = bugs_df['Team'].dropna().apply(lambda x: x[0].get('value') if (type(x) == list) else None)\n",
    "#bugs_df['status'] = bugs_df['status'].dropna().apply(lambda x: x.get('name'))\n",
    "#bugs_df['reporter'] = bugs_df['reporter'].dropna().apply(lambda x: x.get('name'))\n",
    "bugs_df['fixVersions'] = bugs_df['fixVersions'].apply(lambda x: x[0]['name'] if ((type(x) == list) and x and (type(x[0]) == dict)) else None)\n",
    "#bugs_df['Platform'] = bugs_df['Platform'].dropna().apply(lambda x: x[0].get('value'))\n",
    "bugs_df['resolution'] = bugs_df['resolution'].apply(lambda x: x['name'] if type(x) == dict else None)\n",
    "        \n",
    "bugs_df['created'] = pd.to_datetime(bugs_df['created'], format='%Y-%m-%dT%H:%M:%S.%f', errors='coerce')\n",
    "\n",
    "#insert a column for jira link\n",
    "bugs_df['bug_link'] = '=HYPERLINK(\"' + domain + '/browse/' + bugs_df['key'] + '\",\"' + bugs_df['key'] + '\")'\n"
   ]
  },
  {
   "cell_type": "code",
   "execution_count": 421,
   "metadata": {},
   "outputs": [
    {
     "data": {
      "text/html": [
       "<h1> Merge Stories, Epics and Sprints</h1>"
      ],
      "text/plain": [
       "<IPython.core.display.HTML object>"
      ]
     },
     "metadata": {},
     "output_type": "display_data"
    }
   ],
   "source": [
    "%%html\n",
    "<h1> Merge Stories, Epics and Sprints</h1>"
   ]
  },
  {
   "cell_type": "code",
   "execution_count": 422,
   "metadata": {},
   "outputs": [],
   "source": [
    "#first merge - create the epics and stories merge\n",
    "scope_df = pd.merge(epics_df, stories_df, how='right', on=None, left_on='key', right_on='Epic Link',\n",
    "         left_index=False, right_index=False, sort=True,\n",
    "         suffixes=('_epic', '_story'), copy=True, indicator=False,\n",
    "         validate=None)\n",
    "\n",
    "#Combine the sprints with the epics + stories dataframe and we can then drop the duplicate issue_key field.\n",
    "\n",
    "sprintsWithStoriesAndEpics_df = pd.merge(scope_df, sprints_df, how='left', on=None, left_on='key_story', right_on='issue_key',\n",
    "         left_index=False, right_index=False, \n",
    "         suffixes=('_story', '_sprint'),\n",
    "         copy=True, indicator=False,\n",
    "         validate=None).drop(columns = ['issue_key'])"
   ]
  },
  {
   "cell_type": "code",
   "execution_count": 423,
   "metadata": {},
   "outputs": [
    {
     "data": {
      "text/html": [
       "<h1> Filter the stories, epics and sprints table now with the Quarter filter</h1>"
      ],
      "text/plain": [
       "<IPython.core.display.HTML object>"
      ]
     },
     "metadata": {},
     "output_type": "display_data"
    }
   ],
   "source": [
    "%%html\n",
    "<h1> Filter the stories, epics and sprints table now with the Quarter filter</h1>"
   ]
  },
  {
   "cell_type": "code",
   "execution_count": 424,
   "metadata": {},
   "outputs": [],
   "source": [
    "#All stories from now on in this notebook will be between the R17 date rate: 04/03 - 07/05. The stories will have \n",
    "#dupicates because each story is on multiple rows (for each sprint the story is on)\n",
    "\n",
    "sprintsWithStoriesAndEpics_df = sprintsWithStoriesAndEpics_df[sprintsWithStoriesAndEpics_df['endDate'] > datetime(2018, 4, 3)]\n",
    "sprintsWithStoriesAndEpics_df = sprintsWithStoriesAndEpics_df[sprintsWithStoriesAndEpics_df['endDate'] < datetime(2018, 7, 5)]"
   ]
  },
  {
   "cell_type": "code",
   "execution_count": 425,
   "metadata": {},
   "outputs": [
    {
     "data": {
      "text/html": [
       "<h1> No of Stories and Epics</h1>"
      ],
      "text/plain": [
       "<IPython.core.display.HTML object>"
      ]
     },
     "metadata": {},
     "output_type": "display_data"
    }
   ],
   "source": [
    "%%html\n",
    "<h1> No of Stories and Epics</h1>"
   ]
  },
  {
   "cell_type": "code",
   "execution_count": 426,
   "metadata": {},
   "outputs": [
    {
     "name": "stdout",
     "output_type": "stream",
     "text": [
      "No. Stories:  413\n",
      "No. Epics:  44\n"
     ]
    }
   ],
   "source": [
    "#Lets do some basic statistics\n",
    "#get the number of unique stories - note that these stories are duplicated because they are part of multiple sprints\n",
    "#in some cases.\n",
    "# also this is the stories that were worked on and not necessariy finished. They were simply inside the sprints\n",
    "\n",
    "print('No. Stories: ', sprintsWithStoriesAndEpics_df['key_story'].unique().size)\n",
    "print('No. Epics: ', sprintsWithStoriesAndEpics_df['key_epic'].unique().size)"
   ]
  },
  {
   "cell_type": "code",
   "execution_count": 427,
   "metadata": {},
   "outputs": [
    {
     "data": {
      "text/html": [
       "<h1> Check how many stories are not closed </h1>"
      ],
      "text/plain": [
       "<IPython.core.display.HTML object>"
      ]
     },
     "metadata": {},
     "output_type": "display_data"
    }
   ],
   "source": [
    "%%html\n",
    "<h1> Check how many stories are not closed </h1>"
   ]
  },
  {
   "cell_type": "code",
   "execution_count": 428,
   "metadata": {},
   "outputs": [
    {
     "data": {
      "text/plain": [
       "(0,)"
      ]
     },
     "execution_count": 428,
     "metadata": {},
     "output_type": "execute_result"
    }
   ],
   "source": [
    "#Check the stories which are not closed yet to see if we need to do anything special.\n",
    "sprintsWithStoriesAndEpics_df[sprintsWithStoriesAndEpics_df['status_story'] != 'Closed']['key_story'].unique().shape"
   ]
  },
  {
   "cell_type": "code",
   "execution_count": 429,
   "metadata": {},
   "outputs": [
    {
     "data": {
      "text/html": [
       "<h1> Average and Standard Deviation for Velocities for each team </h1>"
      ],
      "text/plain": [
       "<IPython.core.display.HTML object>"
      ]
     },
     "metadata": {},
     "output_type": "display_data"
    }
   ],
   "source": [
    "%%html\n",
    "<h1> Average and Standard Deviation for Velocities for each team </h1>"
   ]
  },
  {
   "cell_type": "code",
   "execution_count": 430,
   "metadata": {},
   "outputs": [
    {
     "name": "stderr",
     "output_type": "stream",
     "text": [
      "/Users/mbhatia/anaconda3/lib/python3.6/site-packages/pandas/core/generic.py:2530: PerformanceWarning: dropping on a non-lexsorted multi-index without a level parameter may impact performance.\n",
      "  obj = obj._drop_axis(labels, axis, level=level, errors=errors)\n"
     ]
    },
    {
     "data": {
      "text/html": [
       "<div>\n",
       "<style scoped>\n",
       "    .dataframe tbody tr th:only-of-type {\n",
       "        vertical-align: middle;\n",
       "    }\n",
       "\n",
       "    .dataframe tbody tr th {\n",
       "        vertical-align: top;\n",
       "    }\n",
       "\n",
       "    .dataframe thead tr th {\n",
       "        text-align: left;\n",
       "    }\n",
       "\n",
       "    .dataframe thead tr:last-of-type th {\n",
       "        text-align: right;\n",
       "    }\n",
       "</style>\n",
       "<table border=\"1\" class=\"dataframe\">\n",
       "  <thead>\n",
       "    <tr>\n",
       "      <th></th>\n",
       "      <th colspan=\"2\" halign=\"left\">Story Points</th>\n",
       "    </tr>\n",
       "    <tr>\n",
       "      <th></th>\n",
       "      <th colspan=\"2\" halign=\"left\">sum</th>\n",
       "    </tr>\n",
       "    <tr>\n",
       "      <th></th>\n",
       "      <th>std</th>\n",
       "      <th>mean</th>\n",
       "    </tr>\n",
       "    <tr>\n",
       "      <th>Team_story</th>\n",
       "      <th></th>\n",
       "      <th></th>\n",
       "    </tr>\n",
       "  </thead>\n",
       "  <tbody>\n",
       "    <tr>\n",
       "      <th>Admin Console Builder</th>\n",
       "      <td>NaN</td>\n",
       "      <td>42.000000</td>\n",
       "    </tr>\n",
       "    <tr>\n",
       "      <th>Admin Console Management</th>\n",
       "      <td>NaN</td>\n",
       "      <td>2.000000</td>\n",
       "    </tr>\n",
       "    <tr>\n",
       "      <th>Cache Back</th>\n",
       "      <td>40.811996</td>\n",
       "      <td>105.428571</td>\n",
       "    </tr>\n",
       "    <tr>\n",
       "      <th>Core</th>\n",
       "      <td>NaN</td>\n",
       "      <td>27.000000</td>\n",
       "    </tr>\n",
       "    <tr>\n",
       "      <th>End User Dashboard</th>\n",
       "      <td>NaN</td>\n",
       "      <td>118.000000</td>\n",
       "    </tr>\n",
       "    <tr>\n",
       "      <th>End User Responses</th>\n",
       "      <td>NaN</td>\n",
       "      <td>93.000000</td>\n",
       "    </tr>\n",
       "    <tr>\n",
       "      <th>Healers</th>\n",
       "      <td>79.191224</td>\n",
       "      <td>115.666667</td>\n",
       "    </tr>\n",
       "    <tr>\n",
       "      <th>Karma</th>\n",
       "      <td>32.000000</td>\n",
       "      <td>65.000000</td>\n",
       "    </tr>\n",
       "    <tr>\n",
       "      <th>Knight Riders</th>\n",
       "      <td>54.321829</td>\n",
       "      <td>71.111111</td>\n",
       "    </tr>\n",
       "    <tr>\n",
       "      <th>Mission Control</th>\n",
       "      <td>5.656854</td>\n",
       "      <td>12.000000</td>\n",
       "    </tr>\n",
       "    <tr>\n",
       "      <th>Optimus</th>\n",
       "      <td>21.076956</td>\n",
       "      <td>32.714286</td>\n",
       "    </tr>\n",
       "    <tr>\n",
       "      <th>Seal Team</th>\n",
       "      <td>121.498677</td>\n",
       "      <td>196.750000</td>\n",
       "    </tr>\n",
       "    <tr>\n",
       "      <th>Slide Tackle</th>\n",
       "      <td>5.921711</td>\n",
       "      <td>9.666667</td>\n",
       "    </tr>\n",
       "    <tr>\n",
       "      <th>The Finer Tings Club</th>\n",
       "      <td>35.062190</td>\n",
       "      <td>52.250000</td>\n",
       "    </tr>\n",
       "  </tbody>\n",
       "</table>\n",
       "</div>"
      ],
      "text/plain": [
       "                         Story Points            \n",
       "                                  sum            \n",
       "                                  std        mean\n",
       "Team_story                                       \n",
       "Admin Console Builder             NaN   42.000000\n",
       "Admin Console Management          NaN    2.000000\n",
       "Cache Back                  40.811996  105.428571\n",
       "Core                              NaN   27.000000\n",
       "End User Dashboard                NaN  118.000000\n",
       "End User Responses                NaN   93.000000\n",
       "Healers                     79.191224  115.666667\n",
       "Karma                       32.000000   65.000000\n",
       "Knight Riders               54.321829   71.111111\n",
       "Mission Control              5.656854   12.000000\n",
       "Optimus                     21.076956   32.714286\n",
       "Seal Team                  121.498677  196.750000\n",
       "Slide Tackle                 5.921711    9.666667\n",
       "The Finer Tings Club        35.062190   52.250000"
      ]
     },
     "execution_count": 430,
     "metadata": {},
     "output_type": "execute_result"
    }
   ],
   "source": [
    "#calculate the sprint velocities per team individually. We will use it to determine the standard deviation\n",
    "sprintsWithStoriesAndEpics_dfCopy = sprintsWithStoriesAndEpics_df[['Team_story', 'Story Points', 'name']].copy()\n",
    "sprintsWithStoriesAndEpics_dfCopy = sprintsWithStoriesAndEpics_dfCopy.groupby(['Team_story', 'name']).agg({'Story Points':['sum']})\n",
    "\n",
    "sprintsWithStoriesAndEpics_dfCopy = sprintsWithStoriesAndEpics_dfCopy.reset_index().drop(columns=['name'])\n",
    "sprintsWithStoriesAndEpics_dfCopy.groupby(['Team_story']).agg( { 'mean', 'std'})"
   ]
  },
  {
   "cell_type": "code",
   "execution_count": 431,
   "metadata": {},
   "outputs": [],
   "source": [
    "#Alternate velocity calculation that yields the same results as abov but no std. Commented off for now.\n",
    "#Calculate the number of stories each team worked on, number of points each team covered, number of bugs\n",
    "#each team fixed, number of features that were worked on.\n",
    "\n",
    "#sprintsWithStoriesAndEpics_dfCopy = sprintsWithStoriesAndEpics_df[['Team_story', 'key_story', 'Story Points', 'name']].copy()\n",
    "#sprintsWithStoriesAndEpics_dfCopy = sprintsWithStoriesAndEpics_dfCopy.groupby(['Team_story']).agg({'key_story':['count'], 'Story Points':['sum'], 'name':['nunique']})\n",
    "#sprintsWithStoriesAndEpics_dfCopy['average velocity'] = sprintsWithStoriesAndEpics_dfCopy['Story Points']['sum']/sprintsWithStoriesAndEpics_dfCopy['name']['nunique']"
   ]
  },
  {
   "cell_type": "code",
   "execution_count": 475,
   "metadata": {},
   "outputs": [
    {
     "data": {
      "text/html": [
       "<h1> Calculate Story Spillover counts for all teams and the weighted average number of sprints required by team. Larger Velocity Standard Deviation should correlate with this. </h1>"
      ],
      "text/plain": [
       "<IPython.core.display.HTML object>"
      ]
     },
     "metadata": {},
     "output_type": "display_data"
    }
   ],
   "source": [
    "%%html\n",
    "<h1> Calculate Story Spillover counts for all teams and the weighted average number of sprints required by team. Larger Velocity Standard Deviation should correlate with this. </h1>"
   ]
  },
  {
   "cell_type": "code",
   "execution_count": 496,
   "metadata": {},
   "outputs": [],
   "source": [
    "#Calculate the spillover stories per team. How is spillover calculated? The sprint tags on a story are counted and if\n",
    "#these are higher than one, then the story is categorized as spillover.\n",
    "\n",
    "#first add up the number of sprints a story is in\n",
    "sprintsWithStoriesAndEpics_dfCopy = sprintsWithStoriesAndEpics_df[['Team_story', 'key_story', 'name', 'startDate', 'endDate', 'Open Set To Date', 'Approval Set To Date', 'Closed Set To Date']].copy()\n",
    "\n",
    "sprintsWithStoriesAndEpics_dfCopy['sprintLeadTime'] = (sprintsWithStoriesAndEpics_dfCopy['startDate'] - sprintsWithStoriesAndEpics_dfCopy['Open Set To Date']).dt.days \n",
    "sprintsWithStoriesAndEpics_dfCopy['sprintCommitment'] = sprintsWithStoriesAndEpics_dfCopy['sprintLeadTime'] > -2\n",
    "\n",
    "\n",
    "#This part is optional - detect stories that start approval before end of sprint and do not finish approval until after sprint.\n",
    "sprintsWithStoriesAndEpics_dfCopy['Approval Lead Time'] = (sprintsWithStoriesAndEpics_dfCopy['endDate'] - sprintsWithStoriesAndEpics_dfCopy['Approval Set To Date']).dt.days\n",
    "sprintsWithStoriesAndEpics_dfCopy['Close Delay'] = (sprintsWithStoriesAndEpics_dfCopy['Closed Set To Date'] - sprintsWithStoriesAndEpics_dfCopy['endDate']).dt.days\n",
    "sprintsWithStoriesAndEpics_dfCopy['Approval Spill Over'] = (sprintsWithStoriesAndEpics_dfCopy['Approval Lead Time'] >= 1) & (sprintsWithStoriesAndEpics_dfCopy['Close Delay'] >= 1)\n",
    "\n",
    "#write out the source data onto disk\n",
    "#however we want to write only the records which are duplicates. Better idea to remove the non duplicates.\n",
    "sprintsWithStoriesAndEpics_dfCopy[sprintsWithStoriesAndEpics_dfCopy.duplicated(keep=False, subset='key_story')].to_excel(writer, index=False, sheet_name='Spillover Stories', freeze_panes=(1,0), columns=['Team_story', 'key_story', 'name', 'startDate', 'Open Set To Date', 'sprintLeadTime', 'sprintCommitment'])\n"
   ]
  },
  {
   "cell_type": "code",
   "execution_count": 497,
   "metadata": {},
   "outputs": [],
   "source": [
    "#Comment the line below if we want to include all stories in sprint regardless of whether they were opened after sprint started.\n",
    "#sprintsWithStoriesAndEpics_dfCopy = sprintsWithStoriesAndEpics_dfCopy[sprintsWithStoriesAndEpics_dfCopy['sprintCommitment']]\n",
    "\n",
    "#Comment the line below if we want to include the Approval Spillovers.\n",
    "sprintsWithStoriesAndEpics_dfCopy = sprintsWithStoriesAndEpics_dfCopy[sprintsWithStoriesAndEpics_dfCopy['Approval Spill Over'] == False]\n"
   ]
  },
  {
   "cell_type": "code",
   "execution_count": 498,
   "metadata": {},
   "outputs": [
    {
     "name": "stderr",
     "output_type": "stream",
     "text": [
      "/Users/mbhatia/anaconda3/lib/python3.6/site-packages/pandas/core/generic.py:2530: PerformanceWarning: dropping on a non-lexsorted multi-index without a level parameter may impact performance.\n",
      "  obj = obj._drop_axis(labels, axis, level=level, errors=errors)\n"
     ]
    },
    {
     "data": {
      "text/html": [
       "<div>\n",
       "<style scoped>\n",
       "    .dataframe tbody tr th:only-of-type {\n",
       "        vertical-align: middle;\n",
       "    }\n",
       "\n",
       "    .dataframe tbody tr th {\n",
       "        vertical-align: top;\n",
       "    }\n",
       "\n",
       "    .dataframe thead tr th {\n",
       "        text-align: left;\n",
       "    }\n",
       "\n",
       "    .dataframe thead tr:last-of-type th {\n",
       "        text-align: right;\n",
       "    }\n",
       "</style>\n",
       "<table border=\"1\" class=\"dataframe\">\n",
       "  <thead>\n",
       "    <tr>\n",
       "      <th></th>\n",
       "      <th></th>\n",
       "      <th>key_story</th>\n",
       "    </tr>\n",
       "    <tr>\n",
       "      <th></th>\n",
       "      <th></th>\n",
       "      <th></th>\n",
       "    </tr>\n",
       "    <tr>\n",
       "      <th></th>\n",
       "      <th></th>\n",
       "      <th>count</th>\n",
       "    </tr>\n",
       "    <tr>\n",
       "      <th>Team_story</th>\n",
       "      <th>spillover sprint count</th>\n",
       "      <th></th>\n",
       "    </tr>\n",
       "  </thead>\n",
       "  <tbody>\n",
       "    <tr>\n",
       "      <th>Admin Console Builder</th>\n",
       "      <th>1</th>\n",
       "      <td>3</td>\n",
       "    </tr>\n",
       "    <tr>\n",
       "      <th>Admin Console Management</th>\n",
       "      <th>1</th>\n",
       "      <td>1</td>\n",
       "    </tr>\n",
       "    <tr>\n",
       "      <th rowspan=\"4\" valign=\"top\">Cache Back</th>\n",
       "      <th>1</th>\n",
       "      <td>17</td>\n",
       "    </tr>\n",
       "    <tr>\n",
       "      <th>2</th>\n",
       "      <td>10</td>\n",
       "    </tr>\n",
       "    <tr>\n",
       "      <th>3</th>\n",
       "      <td>15</td>\n",
       "    </tr>\n",
       "    <tr>\n",
       "      <th>4</th>\n",
       "      <td>4</td>\n",
       "    </tr>\n",
       "    <tr>\n",
       "      <th>Core</th>\n",
       "      <th>1</th>\n",
       "      <td>7</td>\n",
       "    </tr>\n",
       "    <tr>\n",
       "      <th>End User Dashboard</th>\n",
       "      <th>1</th>\n",
       "      <td>20</td>\n",
       "    </tr>\n",
       "    <tr>\n",
       "      <th>End User Responses</th>\n",
       "      <th>1</th>\n",
       "      <td>11</td>\n",
       "    </tr>\n",
       "    <tr>\n",
       "      <th rowspan=\"6\" valign=\"top\">Healers</th>\n",
       "      <th>1</th>\n",
       "      <td>17</td>\n",
       "    </tr>\n",
       "    <tr>\n",
       "      <th>2</th>\n",
       "      <td>33</td>\n",
       "    </tr>\n",
       "    <tr>\n",
       "      <th>3</th>\n",
       "      <td>10</td>\n",
       "    </tr>\n",
       "    <tr>\n",
       "      <th>4</th>\n",
       "      <td>5</td>\n",
       "    </tr>\n",
       "    <tr>\n",
       "      <th>5</th>\n",
       "      <td>1</td>\n",
       "    </tr>\n",
       "    <tr>\n",
       "      <th>7</th>\n",
       "      <td>1</td>\n",
       "    </tr>\n",
       "    <tr>\n",
       "      <th rowspan=\"6\" valign=\"top\">Karma</th>\n",
       "      <th>1</th>\n",
       "      <td>8</td>\n",
       "    </tr>\n",
       "    <tr>\n",
       "      <th>2</th>\n",
       "      <td>6</td>\n",
       "    </tr>\n",
       "    <tr>\n",
       "      <th>3</th>\n",
       "      <td>4</td>\n",
       "    </tr>\n",
       "    <tr>\n",
       "      <th>4</th>\n",
       "      <td>2</td>\n",
       "    </tr>\n",
       "    <tr>\n",
       "      <th>5</th>\n",
       "      <td>1</td>\n",
       "    </tr>\n",
       "    <tr>\n",
       "      <th>6</th>\n",
       "      <td>2</td>\n",
       "    </tr>\n",
       "    <tr>\n",
       "      <th rowspan=\"5\" valign=\"top\">Knight Riders</th>\n",
       "      <th>1</th>\n",
       "      <td>26</td>\n",
       "    </tr>\n",
       "    <tr>\n",
       "      <th>2</th>\n",
       "      <td>7</td>\n",
       "    </tr>\n",
       "    <tr>\n",
       "      <th>3</th>\n",
       "      <td>4</td>\n",
       "    </tr>\n",
       "    <tr>\n",
       "      <th>4</th>\n",
       "      <td>4</td>\n",
       "    </tr>\n",
       "    <tr>\n",
       "      <th>5</th>\n",
       "      <td>6</td>\n",
       "    </tr>\n",
       "    <tr>\n",
       "      <th>Mission Control</th>\n",
       "      <th>1</th>\n",
       "      <td>3</td>\n",
       "    </tr>\n",
       "    <tr>\n",
       "      <th rowspan=\"3\" valign=\"top\">Optimus</th>\n",
       "      <th>1</th>\n",
       "      <td>13</td>\n",
       "    </tr>\n",
       "    <tr>\n",
       "      <th>2</th>\n",
       "      <td>11</td>\n",
       "    </tr>\n",
       "    <tr>\n",
       "      <th>3</th>\n",
       "      <td>1</td>\n",
       "    </tr>\n",
       "    <tr>\n",
       "      <th rowspan=\"5\" valign=\"top\">Seal Team</th>\n",
       "      <th>1</th>\n",
       "      <td>45</td>\n",
       "    </tr>\n",
       "    <tr>\n",
       "      <th>2</th>\n",
       "      <td>29</td>\n",
       "    </tr>\n",
       "    <tr>\n",
       "      <th>3</th>\n",
       "      <td>6</td>\n",
       "    </tr>\n",
       "    <tr>\n",
       "      <th>4</th>\n",
       "      <td>4</td>\n",
       "    </tr>\n",
       "    <tr>\n",
       "      <th>5</th>\n",
       "      <td>1</td>\n",
       "    </tr>\n",
       "    <tr>\n",
       "      <th rowspan=\"2\" valign=\"top\">Slide Tackle</th>\n",
       "      <th>1</th>\n",
       "      <td>12</td>\n",
       "    </tr>\n",
       "    <tr>\n",
       "      <th>2</th>\n",
       "      <td>6</td>\n",
       "    </tr>\n",
       "    <tr>\n",
       "      <th rowspan=\"4\" valign=\"top\">The Finer Tings Club</th>\n",
       "      <th>1</th>\n",
       "      <td>30</td>\n",
       "    </tr>\n",
       "    <tr>\n",
       "      <th>2</th>\n",
       "      <td>11</td>\n",
       "    </tr>\n",
       "    <tr>\n",
       "      <th>3</th>\n",
       "      <td>2</td>\n",
       "    </tr>\n",
       "    <tr>\n",
       "      <th>4</th>\n",
       "      <td>3</td>\n",
       "    </tr>\n",
       "  </tbody>\n",
       "</table>\n",
       "</div>"
      ],
      "text/plain": [
       "                                                key_story\n",
       "                                                         \n",
       "                                                    count\n",
       "Team_story               spillover sprint count          \n",
       "Admin Console Builder    1                              3\n",
       "Admin Console Management 1                              1\n",
       "Cache Back               1                             17\n",
       "                         2                             10\n",
       "                         3                             15\n",
       "                         4                              4\n",
       "Core                     1                              7\n",
       "End User Dashboard       1                             20\n",
       "End User Responses       1                             11\n",
       "Healers                  1                             17\n",
       "                         2                             33\n",
       "                         3                             10\n",
       "                         4                              5\n",
       "                         5                              1\n",
       "                         7                              1\n",
       "Karma                    1                              8\n",
       "                         2                              6\n",
       "                         3                              4\n",
       "                         4                              2\n",
       "                         5                              1\n",
       "                         6                              2\n",
       "Knight Riders            1                             26\n",
       "                         2                              7\n",
       "                         3                              4\n",
       "                         4                              4\n",
       "                         5                              6\n",
       "Mission Control          1                              3\n",
       "Optimus                  1                             13\n",
       "                         2                             11\n",
       "                         3                              1\n",
       "Seal Team                1                             45\n",
       "                         2                             29\n",
       "                         3                              6\n",
       "                         4                              4\n",
       "                         5                              1\n",
       "Slide Tackle             1                             12\n",
       "                         2                              6\n",
       "The Finer Tings Club     1                             30\n",
       "                         2                             11\n",
       "                         3                              2\n",
       "                         4                              3"
      ]
     },
     "execution_count": 498,
     "metadata": {},
     "output_type": "execute_result"
    }
   ],
   "source": [
    "sprintsWithStoriesAndEpics_dfCopy= sprintsWithStoriesAndEpics_dfCopy.drop(columns = ['startDate', 'endDate', 'Open Set To Date', 'sprintCommitment', 'sprintLeadTime', 'Approval Set To Date', 'Closed Set To Date', 'Approval Lead Time', 'Close Delay', 'Approval Spill Over'])\n",
    "\n",
    "sprintsWithStoriesAndEpics_dfCopy = sprintsWithStoriesAndEpics_dfCopy.groupby(['Team_story', 'key_story']).agg({'name':['count']})\n",
    "\n",
    "#reset index since we need to do another groupby\n",
    "sprintsWithStoriesAndEpics_dfCopy = sprintsWithStoriesAndEpics_dfCopy.reset_index()\n",
    "\n",
    "sprintsWithStoriesAndEpics_dfCopy['spillover sprint count'] = sprintsWithStoriesAndEpics_dfCopy['name']['count']\n",
    "sprintsWithStoriesAndEpics_dfCopy= sprintsWithStoriesAndEpics_dfCopy.drop(columns = ['name'])\n",
    "sprintsWithStoriesAndEpics_dfCopy = sprintsWithStoriesAndEpics_dfCopy.groupby(['Team_story', 'spillover sprint count']).agg(['count'])\n",
    "sprintsWithStoriesAndEpics_dfCopy.groupby(level=0).apply(max)\n",
    "sprintsWithStoriesAndEpics_dfCopy\n"
   ]
  },
  {
   "cell_type": "code",
   "execution_count": 499,
   "metadata": {},
   "outputs": [
    {
     "data": {
      "text/html": [
       "<h1> Calculate weighted average for no of sprints to complete a Story for each team </h1>"
      ],
      "text/plain": [
       "<IPython.core.display.HTML object>"
      ]
     },
     "metadata": {},
     "output_type": "display_data"
    }
   ],
   "source": [
    "%%html\n",
    "<h1> Calculate weighted average for no of sprints to complete a Story for each team </h1>"
   ]
  },
  {
   "cell_type": "code",
   "execution_count": 500,
   "metadata": {},
   "outputs": [
    {
     "name": "stderr",
     "output_type": "stream",
     "text": [
      "/Users/mbhatia/anaconda3/lib/python3.6/site-packages/pandas/core/generic.py:2530: PerformanceWarning: dropping on a non-lexsorted multi-index without a level parameter may impact performance.\n",
      "  obj = obj._drop_axis(labels, axis, level=level, errors=errors)\n"
     ]
    },
    {
     "data": {
      "text/plain": [
       "Team_story\n",
       "Admin Console Builder       1.000000\n",
       "Admin Console Management    1.000000\n",
       "Cache Back                  2.130435\n",
       "Core                        1.000000\n",
       "End User Dashboard          1.000000\n",
       "End User Responses          1.000000\n",
       "Healers                     2.164179\n",
       "Karma                       2.478261\n",
       "Knight Riders               2.085106\n",
       "Mission Control             1.000000\n",
       "Optimus                     1.520000\n",
       "Seal Team                   1.670588\n",
       "Slide Tackle                1.333333\n",
       "The Finer Tings Club        1.521739\n",
       "dtype: float64"
      ]
     },
     "execution_count": 500,
     "metadata": {},
     "output_type": "execute_result"
    }
   ],
   "source": [
    "#reset index since we need to do another groupby\n",
    "sprintsWithStoriesAndEpics_dfCopy = sprintsWithStoriesAndEpics_dfCopy.reset_index()\n",
    "\n",
    "sprintsWithStoriesAndEpics_dfCopy['story count'] = sprintsWithStoriesAndEpics_dfCopy['key_story']['count']\n",
    "sprintsWithStoriesAndEpics_dfCopy= sprintsWithStoriesAndEpics_dfCopy.drop(columns = ['key_story'])\n",
    "\n",
    "#lets calculate the weighted average\n",
    "sprintsWithStoriesAndEpics_dfCopy.groupby(['Team_story']).apply(lambda g: np.average(g['spillover sprint count'], weights=g['story count']))"
   ]
  },
  {
   "cell_type": "code",
   "execution_count": null,
   "metadata": {},
   "outputs": [],
   "source": [
    "#Repeat the above calculations by excluding stories that are spilling over due to approvals. If the story has\n",
    "#an approval date that is before end of sprint and the close date is after then that story is considered an \n",
    "#approval spillover. Note that a story can be approval spillover for multiple sprints when it satisfies this.\n",
    "#Engineering team wanted to see what this looks like. We expect an improvement in the numbers above. While this\n",
    "#calculation should be meaningless, if the difference is dramatic, then it may be worth the exercise."
   ]
  },
  {
   "cell_type": "code",
   "execution_count": 438,
   "metadata": {},
   "outputs": [
    {
     "data": {
      "text/html": [
       "<h1> Calculate the total non-sprint bugs to total bugs ratio for the entire quarter </h1>"
      ],
      "text/plain": [
       "<IPython.core.display.HTML object>"
      ]
     },
     "metadata": {},
     "output_type": "display_data"
    }
   ],
   "source": [
    "%%html\n",
    "<h1> Calculate the total non-sprint bugs to total bugs ratio for the entire quarter </h1>"
   ]
  },
  {
   "cell_type": "code",
   "execution_count": 439,
   "metadata": {},
   "outputs": [
    {
     "data": {
      "text/plain": [
       "0.7770859277708593"
      ]
     },
     "execution_count": 439,
     "metadata": {},
     "output_type": "execute_result"
    }
   ],
   "source": [
    "#ratio of bugs that were not linked to any stories to total bugs. Note that this is for the quarter for\n",
    "#several releases in the quarter.\n",
    "\n",
    "non_sprint_bugs_df = bugs_df[bugs_df['linkKey'].isnull()]\n",
    "non_sprint_bugs_df = non_sprint_bugs_df[non_sprint_bugs_df['created'] > datetime(2018, 4, 3)]\n",
    "non_sprint_bugs_df = non_sprint_bugs_df[non_sprint_bugs_df['created'] < datetime(2018, 7, 5)]\n",
    "non_sprint_bugs_df['key'].unique().size/bugs_df['key'].unique().size"
   ]
  },
  {
   "cell_type": "code",
   "execution_count": 440,
   "metadata": {},
   "outputs": [
    {
     "data": {
      "text/plain": [
       "803"
      ]
     },
     "execution_count": 440,
     "metadata": {},
     "output_type": "execute_result"
    }
   ],
   "source": [
    "#print the denominator - total number of bugs\n",
    "bugs_df['key'].unique().size"
   ]
  },
  {
   "cell_type": "code",
   "execution_count": 441,
   "metadata": {},
   "outputs": [
    {
     "data": {
      "text/html": [
       "<h1> Calculate the bugs created after code freeze with fixversion=R17 to total bugs created in the quarter marked with fixversion R17 </h1>"
      ],
      "text/plain": [
       "<IPython.core.display.HTML object>"
      ]
     },
     "metadata": {},
     "output_type": "display_data"
    }
   ],
   "source": [
    "%%html\n",
    "<h1> Calculate the bugs created after code freeze with fixversion=R17 to total bugs created in the quarter marked with fixversion R17 </h1>"
   ]
  },
  {
   "cell_type": "code",
   "execution_count": 442,
   "metadata": {},
   "outputs": [
    {
     "data": {
      "text/plain": [
       "0.35119047619047616"
      ]
     },
     "execution_count": 442,
     "metadata": {},
     "output_type": "execute_result"
    }
   ],
   "source": [
    "#Another way to analyze this is to find the bugs which were created after the last date of \n",
    "#the release 17 sprints that need to be fixed in the R17 release and compare with the total \n",
    "#number of bugs that were part of R17 (sprints and outside sprints). June 12 was the last date for R17. \n",
    "\n",
    "bugs_df1 = bugs_df[bugs_df['created'] > datetime(2018, 6, 17)]\n",
    "#bugs_df1 = bugs_df1[bugs_df1['affectsVersions'] == 'R17']\n",
    "bugs_df2 = bugs_df1[bugs_df1['fixVersions'] == 'R17']\n",
    "n = bugs_df1['key'].unique().size\n",
    "\n",
    "#find the bugs in the quarter that did not have a fixed version or had a fixed version of R17 or Triage\n",
    "bugs_df1 = bugs_df[bugs_df['created'] > datetime(2018, 4, 3)]\n",
    "bugs_df2 = bugs_df1[bugs_df1['fixVersions'] == 'R17']\n",
    "bugs_df3 = bugs_df1[bugs_df1['fixVersions'] == 'Triage']\n",
    "bugs_df4 = bugs_df1[bugs_df1['fixVersions'] == None]\n",
    "\n",
    "total_bugs = bugs_df2['key'].unique().size + bugs_df3['key'].unique().size + bugs_df4['key'].unique().size\n",
    "\n",
    "#ratio of bugs that were created after the main sprints were over that were marked to be fixed in R17 to\n",
    "#bugs that were created in the whole quarter that are in Triage presently or without fixed version or \n",
    "#the fix version of R17\n",
    "n/total_bugs\n"
   ]
  },
  {
   "cell_type": "code",
   "execution_count": 447,
   "metadata": {},
   "outputs": [
    {
     "data": {
      "text/html": [
       "<h1> Calculate the no. of bugs per story point </h1>"
      ],
      "text/plain": [
       "<IPython.core.display.HTML object>"
      ]
     },
     "metadata": {},
     "output_type": "display_data"
    }
   ],
   "source": [
    "%%html\n",
    "<h1> Calculate the no. of bugs per story point </h1>"
   ]
  },
  {
   "cell_type": "code",
   "execution_count": 531,
   "metadata": {},
   "outputs": [
    {
     "name": "stderr",
     "output_type": "stream",
     "text": [
      "/Users/mbhatia/anaconda3/lib/python3.6/site-packages/pandas/core/generic.py:2530: PerformanceWarning: dropping on a non-lexsorted multi-index without a level parameter may impact performance.\n",
      "  obj = obj._drop_axis(labels, axis, level=level, errors=errors)\n"
     ]
    },
    {
     "data": {
      "text/html": [
       "<div>\n",
       "<style scoped>\n",
       "    .dataframe tbody tr th:only-of-type {\n",
       "        vertical-align: middle;\n",
       "    }\n",
       "\n",
       "    .dataframe tbody tr th {\n",
       "        vertical-align: top;\n",
       "    }\n",
       "\n",
       "    .dataframe thead tr th {\n",
       "        text-align: left;\n",
       "    }\n",
       "</style>\n",
       "<table border=\"1\" class=\"dataframe\">\n",
       "  <thead>\n",
       "    <tr>\n",
       "      <th></th>\n",
       "      <th>Team_story</th>\n",
       "      <th>avg bugs per story point</th>\n",
       "    </tr>\n",
       "    <tr>\n",
       "      <th></th>\n",
       "      <th></th>\n",
       "      <th></th>\n",
       "    </tr>\n",
       "    <tr>\n",
       "      <th></th>\n",
       "      <th></th>\n",
       "      <th></th>\n",
       "    </tr>\n",
       "  </thead>\n",
       "  <tbody>\n",
       "    <tr>\n",
       "      <th>3</th>\n",
       "      <td>Knight Riders</td>\n",
       "      <td>0.387919</td>\n",
       "    </tr>\n",
       "    <tr>\n",
       "      <th>7</th>\n",
       "      <td>The Finer Tings Club</td>\n",
       "      <td>0.294274</td>\n",
       "    </tr>\n",
       "    <tr>\n",
       "      <th>2</th>\n",
       "      <td>Karma</td>\n",
       "      <td>0.278312</td>\n",
       "    </tr>\n",
       "    <tr>\n",
       "      <th>1</th>\n",
       "      <td>Healers</td>\n",
       "      <td>0.266667</td>\n",
       "    </tr>\n",
       "    <tr>\n",
       "      <th>0</th>\n",
       "      <td>Cache Back</td>\n",
       "      <td>0.210363</td>\n",
       "    </tr>\n",
       "    <tr>\n",
       "      <th>6</th>\n",
       "      <td>Seal Team</td>\n",
       "      <td>0.183384</td>\n",
       "    </tr>\n",
       "    <tr>\n",
       "      <th>4</th>\n",
       "      <td>Mission Control</td>\n",
       "      <td>0.125000</td>\n",
       "    </tr>\n",
       "    <tr>\n",
       "      <th>5</th>\n",
       "      <td>Optimus</td>\n",
       "      <td>0.115385</td>\n",
       "    </tr>\n",
       "  </tbody>\n",
       "</table>\n",
       "</div>"
      ],
      "text/plain": [
       "             Team_story avg bugs per story point\n",
       "                                                \n",
       "                                                \n",
       "3         Knight Riders                 0.387919\n",
       "7  The Finer Tings Club                 0.294274\n",
       "2                 Karma                 0.278312\n",
       "1               Healers                 0.266667\n",
       "0            Cache Back                 0.210363\n",
       "6             Seal Team                 0.183384\n",
       "4       Mission Control                 0.125000\n",
       "5               Optimus                 0.115385"
      ]
     },
     "execution_count": 531,
     "metadata": {},
     "output_type": "execute_result"
    }
   ],
   "source": [
    "#combine the bugs with the stories dataframe\n",
    "#find the number of bugs for each story point\n",
    "\n",
    "\n",
    "storiesWithBugs_df = pd.merge(bugs_df, stories_df, how='right', on=None, left_on='linkKey', right_on='key',\n",
    "         left_index=False, right_index=False, sort=True,\n",
    "         suffixes=('_bug', '_story'), copy=True, indicator=False,\n",
    "         validate=None)\n",
    "\n",
    "#Comment this line below if we want to include bugs that were closed as invalid in some way. Does not appear to make \n",
    "#much difference.\n",
    "storiesWithBugs_df = storiesWithBugs_df[~ storiesWithBugs_df['resolution'].isin([\"Cannot Reproduce\", \"Declined\", \"Duplicate\", \"Invalid\", \"Not Needed\", \"Won't Do\", \"Won't Fix\"])]\n",
    "\n",
    "storiesWithBugs_df = storiesWithBugs_df[['Team_story', 'key_story', 'key_bug', 'Story Points_story']].copy().dropna()\n",
    "\n",
    "storiesWithBugs_df = storiesWithBugs_df.groupby(['Team_story', 'key_story', 'Story Points_story']).agg(['count'])\n",
    "storiesWithBugs_df = storiesWithBugs_df.reset_index()\n",
    "storiesWithBugs_df['bugs per story point'] = storiesWithBugs_df['key_bug']['count']/storiesWithBugs_df['Story Points_story']\n",
    "\n",
    "#write out the source data onto disk\n",
    "storiesWithBugs_df.to_excel(writer, index=True, sheet_name='Bugs per Story Point', freeze_panes=(1,0))\n",
    "\n",
    "storiesWithBugs_df = storiesWithBugs_df.drop(columns = ['Story Points_story', 'key_story', 'key_bug'])\n",
    "storiesWithBugs_df = storiesWithBugs_df.groupby(['Team_story']).agg(['mean'])\n",
    "storiesWithBugs_df = storiesWithBugs_df.reset_index()\n",
    "\n",
    "\n",
    "storiesWithBugs_df['avg bugs per story point'] = storiesWithBugs_df['bugs per story point']['mean']\n",
    "storiesWithBugs_df= storiesWithBugs_df.drop(columns = ['bugs per story point'])\n",
    "\n",
    "storiesWithBugs_df = storiesWithBugs_df.sort_values(by='avg bugs per story point', ascending=False)\n",
    "storiesWithBugs_df"
   ]
  },
  {
   "cell_type": "code",
   "execution_count": 465,
   "metadata": {},
   "outputs": [
    {
     "data": {
      "text/html": [
       "<h1> Analyze  Stories opened after sprint start date and calculate the weighted average per team. Repeat this for regression period.</h1>"
      ],
      "text/plain": [
       "<IPython.core.display.HTML object>"
      ]
     },
     "metadata": {},
     "output_type": "display_data"
    }
   ],
   "source": [
    "%%html\n",
    "<h1> Analyze  Stories opened after sprint start date and calculate the weighted average of this number per team. Repeat this for regression period.</h1>"
   ]
  },
  {
   "cell_type": "code",
   "execution_count": 468,
   "metadata": {},
   "outputs": [],
   "source": [
    "#find the stories which were inserted in sprints after sprints started\n",
    "\n",
    "sprintsWithStoriesAndEpics_dfCopy = sprintsWithStoriesAndEpics_df[['Team_story', 'startDate', 'Open Set To Date', 'reporter_story', 'Story Points', 'key_story', 'name', 'fixVersions_story']].copy()\n",
    "\n",
    "sprintsWithStoriesAndEpics_dfCopy['sprintLeadTime'] = (sprintsWithStoriesAndEpics_dfCopy['startDate'] - sprintsWithStoriesAndEpics_dfCopy['Open Set To Date']).dt.days \n",
    "sprintsWithStoriesAndEpics_dfCopy['sprintCommitment'] = sprintsWithStoriesAndEpics_dfCopy['sprintLeadTime'] > -2\n",
    "sprintsWithStoriesAndEpics_dfCopy = sprintsWithStoriesAndEpics_dfCopy[sprintsWithStoriesAndEpics_dfCopy['sprintCommitment'] != True].sort_values(by='key_story')\n",
    "#sprintsWithStoriesAndEpics_dfCopy['key_story'].unique().size\n",
    "\n",
    "#write out the source data onto disk\n",
    "#however we want to write only the records which are duplicates. Better idea to remove the non duplicates.\n",
    "sprintsWithStoriesAndEpics_dfCopy.to_excel(writer, index=False, sheet_name='Late Commitments to Sprint', freeze_panes=(1,0), columns=['Team_story', 'startDate', 'Open Set To Date', 'reporter_story', 'Story Points', 'key_story', 'name', 'sprintLeadTime', 'sprintCommitment'])"
   ]
  },
  {
   "cell_type": "code",
   "execution_count": 470,
   "metadata": {},
   "outputs": [],
   "source": [
    "#Lets calculate for R17 how many stories were inserted after the developer sprints were over. This is a subset of \n",
    "#the previous set.\n",
    "\n",
    "storiesPostLastSprint_df = sprintsWithStoriesAndEpics_dfCopy[sprintsWithStoriesAndEpics_dfCopy['startDate'] > datetime(2018, 6, 5)]\n",
    "storiesPostLastSprint_df = storiesPostLastSprint_df[storiesPostLastSprint_df['fixVersions_story'] == 'R17']\n"
   ]
  },
  {
   "cell_type": "code",
   "execution_count": 472,
   "metadata": {},
   "outputs": [
    {
     "data": {
      "text/html": [
       "<div>\n",
       "<style scoped>\n",
       "    .dataframe tbody tr th:only-of-type {\n",
       "        vertical-align: middle;\n",
       "    }\n",
       "\n",
       "    .dataframe tbody tr th {\n",
       "        vertical-align: top;\n",
       "    }\n",
       "\n",
       "    .dataframe thead tr th {\n",
       "        text-align: left;\n",
       "    }\n",
       "\n",
       "    .dataframe thead tr:last-of-type th {\n",
       "        text-align: right;\n",
       "    }\n",
       "</style>\n",
       "<table border=\"1\" class=\"dataframe\">\n",
       "  <thead>\n",
       "    <tr>\n",
       "      <th></th>\n",
       "      <th>sprintLeadTime</th>\n",
       "      <th>key_story</th>\n",
       "    </tr>\n",
       "    <tr>\n",
       "      <th></th>\n",
       "      <th>mean</th>\n",
       "      <th>count</th>\n",
       "    </tr>\n",
       "    <tr>\n",
       "      <th>Team_story</th>\n",
       "      <th></th>\n",
       "      <th></th>\n",
       "    </tr>\n",
       "  </thead>\n",
       "  <tbody>\n",
       "    <tr>\n",
       "      <th>Cache Back</th>\n",
       "      <td>-5.947368</td>\n",
       "      <td>19</td>\n",
       "    </tr>\n",
       "    <tr>\n",
       "      <th>Healers</th>\n",
       "      <td>-7.424242</td>\n",
       "      <td>33</td>\n",
       "    </tr>\n",
       "    <tr>\n",
       "      <th>Knight Riders</th>\n",
       "      <td>-12.517241</td>\n",
       "      <td>29</td>\n",
       "    </tr>\n",
       "    <tr>\n",
       "      <th>Optimus</th>\n",
       "      <td>-6.428571</td>\n",
       "      <td>15</td>\n",
       "    </tr>\n",
       "    <tr>\n",
       "      <th>Seal Team</th>\n",
       "      <td>-7.950000</td>\n",
       "      <td>60</td>\n",
       "    </tr>\n",
       "    <tr>\n",
       "      <th>The Finer Tings Club</th>\n",
       "      <td>-5.076923</td>\n",
       "      <td>14</td>\n",
       "    </tr>\n",
       "  </tbody>\n",
       "</table>\n",
       "</div>"
      ],
      "text/plain": [
       "                     sprintLeadTime key_story\n",
       "                               mean     count\n",
       "Team_story                                   \n",
       "Cache Back                -5.947368        19\n",
       "Healers                   -7.424242        33\n",
       "Knight Riders            -12.517241        29\n",
       "Optimus                   -6.428571        15\n",
       "Seal Team                 -7.950000        60\n",
       "The Finer Tings Club      -5.076923        14"
      ]
     },
     "execution_count": 472,
     "metadata": {},
     "output_type": "execute_result"
    }
   ],
   "source": [
    "#drop unnecessary columns before we do stats\n",
    "sprintsWithStoriesAndEpics_dfCopy = sprintsWithStoriesAndEpics_dfCopy.drop(columns=['startDate', 'Open Set To Date', 'Story Points', 'name', 'sprintCommitment', 'reporter_story'])\n",
    "sprintsWithStoriesAndEpics_dfCopy = sprintsWithStoriesAndEpics_dfCopy.groupby(['Team_story']).agg({'sprintLeadTime':['mean'], 'key_story':['count']})\n",
    "\n",
    "#we must filter the noise\n",
    "sprintsWithStoriesAndEpics_dfCopy = sprintsWithStoriesAndEpics_dfCopy[sprintsWithStoriesAndEpics_dfCopy['key_story']['count'] > 10]\n",
    "sprintsWithStoriesAndEpics_dfCopy"
   ]
  },
  {
   "cell_type": "code",
   "execution_count": 501,
   "metadata": {},
   "outputs": [
    {
     "data": {
      "text/html": [
       "<h2> Stories opened post start of regression.</h2>"
      ],
      "text/plain": [
       "<IPython.core.display.HTML object>"
      ]
     },
     "metadata": {},
     "output_type": "display_data"
    }
   ],
   "source": [
    "%%html\n",
    "<h2> Stories opened post start of regression.</h2>"
   ]
  },
  {
   "cell_type": "code",
   "execution_count": 474,
   "metadata": {},
   "outputs": [
    {
     "data": {
      "text/html": [
       "<div>\n",
       "<style scoped>\n",
       "    .dataframe tbody tr th:only-of-type {\n",
       "        vertical-align: middle;\n",
       "    }\n",
       "\n",
       "    .dataframe tbody tr th {\n",
       "        vertical-align: top;\n",
       "    }\n",
       "\n",
       "    .dataframe thead tr th {\n",
       "        text-align: left;\n",
       "    }\n",
       "\n",
       "    .dataframe thead tr:last-of-type th {\n",
       "        text-align: right;\n",
       "    }\n",
       "</style>\n",
       "<table border=\"1\" class=\"dataframe\">\n",
       "  <thead>\n",
       "    <tr>\n",
       "      <th></th>\n",
       "      <th>sprintLeadTime</th>\n",
       "      <th>key_story</th>\n",
       "    </tr>\n",
       "    <tr>\n",
       "      <th></th>\n",
       "      <th>mean</th>\n",
       "      <th>count</th>\n",
       "    </tr>\n",
       "    <tr>\n",
       "      <th>Team_story</th>\n",
       "      <th></th>\n",
       "      <th></th>\n",
       "    </tr>\n",
       "  </thead>\n",
       "  <tbody>\n",
       "    <tr>\n",
       "      <th>Cache Back</th>\n",
       "      <td>-7.50</td>\n",
       "      <td>2</td>\n",
       "    </tr>\n",
       "    <tr>\n",
       "      <th>Knight Riders</th>\n",
       "      <td>-6.75</td>\n",
       "      <td>4</td>\n",
       "    </tr>\n",
       "    <tr>\n",
       "      <th>Optimus</th>\n",
       "      <td>-2.00</td>\n",
       "      <td>1</td>\n",
       "    </tr>\n",
       "    <tr>\n",
       "      <th>Seal Team</th>\n",
       "      <td>-6.75</td>\n",
       "      <td>4</td>\n",
       "    </tr>\n",
       "    <tr>\n",
       "      <th>The Finer Tings Club</th>\n",
       "      <td>-3.00</td>\n",
       "      <td>1</td>\n",
       "    </tr>\n",
       "  </tbody>\n",
       "</table>\n",
       "</div>"
      ],
      "text/plain": [
       "                     sprintLeadTime key_story\n",
       "                               mean     count\n",
       "Team_story                                   \n",
       "Cache Back                    -7.50         2\n",
       "Knight Riders                 -6.75         4\n",
       "Optimus                       -2.00         1\n",
       "Seal Team                     -6.75         4\n",
       "The Finer Tings Club          -3.00         1"
      ]
     },
     "execution_count": 474,
     "metadata": {},
     "output_type": "execute_result"
    }
   ],
   "source": [
    "#drop unnecessary columns before we do stats\n",
    "storiesPostLastSprint_dfCopy = storiesPostLastSprint_df.drop(columns=['startDate', 'Open Set To Date', 'Story Points', 'name', 'sprintCommitment', 'reporter_story'])\n",
    "storiesPostLastSprint_dfCopy = storiesPostLastSprint_dfCopy.groupby(['Team_story']).agg({'sprintLeadTime':['mean'], 'key_story':['count']})\n",
    "\n",
    "storiesPostLastSprint_dfCopy"
   ]
  },
  {
   "cell_type": "code",
   "execution_count": 319,
   "metadata": {},
   "outputs": [
    {
     "data": {
      "text/html": [
       "<h1> Calculate the Stories spilled over in the Testing State and total time to test for them on average and lead time provided by developers on average.</h1>"
      ],
      "text/plain": [
       "<IPython.core.display.HTML object>"
      ]
     },
     "metadata": {},
     "output_type": "display_data"
    }
   ],
   "source": [
    "%%html\n",
    "<h1> Calculate the Stories spilled over in the Testing State and total time to test for them on average and lead time provided by developers on average.</h1>"
   ]
  },
  {
   "cell_type": "code",
   "execution_count": 502,
   "metadata": {},
   "outputs": [
    {
     "data": {
      "text/html": [
       "<div>\n",
       "<style scoped>\n",
       "    .dataframe tbody tr th:only-of-type {\n",
       "        vertical-align: middle;\n",
       "    }\n",
       "\n",
       "    .dataframe tbody tr th {\n",
       "        vertical-align: top;\n",
       "    }\n",
       "\n",
       "    .dataframe thead tr th {\n",
       "        text-align: left;\n",
       "    }\n",
       "\n",
       "    .dataframe thead tr:last-of-type th {\n",
       "        text-align: right;\n",
       "    }\n",
       "</style>\n",
       "<table border=\"1\" class=\"dataframe\">\n",
       "  <thead>\n",
       "    <tr>\n",
       "      <th></th>\n",
       "      <th>key_story</th>\n",
       "      <th>Testing Lead Time</th>\n",
       "      <th>Testing Time</th>\n",
       "    </tr>\n",
       "    <tr>\n",
       "      <th></th>\n",
       "      <th>count</th>\n",
       "      <th>mean</th>\n",
       "      <th>mean</th>\n",
       "    </tr>\n",
       "    <tr>\n",
       "      <th>Team_story</th>\n",
       "      <th></th>\n",
       "      <th></th>\n",
       "      <th></th>\n",
       "    </tr>\n",
       "  </thead>\n",
       "  <tbody>\n",
       "    <tr>\n",
       "      <th>Admin Console Builder</th>\n",
       "      <td>1</td>\n",
       "      <td>11.000000</td>\n",
       "      <td>13.000000</td>\n",
       "    </tr>\n",
       "    <tr>\n",
       "      <th>Cache Back</th>\n",
       "      <td>23</td>\n",
       "      <td>11.565217</td>\n",
       "      <td>22.347826</td>\n",
       "    </tr>\n",
       "    <tr>\n",
       "      <th>Healers</th>\n",
       "      <td>22</td>\n",
       "      <td>11.590909</td>\n",
       "      <td>22.454545</td>\n",
       "    </tr>\n",
       "    <tr>\n",
       "      <th>Karma</th>\n",
       "      <td>8</td>\n",
       "      <td>8.875000</td>\n",
       "      <td>20.750000</td>\n",
       "    </tr>\n",
       "    <tr>\n",
       "      <th>Knight Riders</th>\n",
       "      <td>14</td>\n",
       "      <td>15.785714</td>\n",
       "      <td>25.642857</td>\n",
       "    </tr>\n",
       "    <tr>\n",
       "      <th>Mission Control</th>\n",
       "      <td>2</td>\n",
       "      <td>10.000000</td>\n",
       "      <td>62.500000</td>\n",
       "    </tr>\n",
       "    <tr>\n",
       "      <th>Optimus</th>\n",
       "      <td>5</td>\n",
       "      <td>6.000000</td>\n",
       "      <td>14.000000</td>\n",
       "    </tr>\n",
       "    <tr>\n",
       "      <th>Seal Team</th>\n",
       "      <td>16</td>\n",
       "      <td>11.687500</td>\n",
       "      <td>23.437500</td>\n",
       "    </tr>\n",
       "    <tr>\n",
       "      <th>The Finer Tings Club</th>\n",
       "      <td>6</td>\n",
       "      <td>10.666667</td>\n",
       "      <td>20.833333</td>\n",
       "    </tr>\n",
       "  </tbody>\n",
       "</table>\n",
       "</div>"
      ],
      "text/plain": [
       "                      key_story Testing Lead Time Testing Time\n",
       "                          count              mean         mean\n",
       "Team_story                                                    \n",
       "Admin Console Builder         1         11.000000    13.000000\n",
       "Cache Back                   23         11.565217    22.347826\n",
       "Healers                      22         11.590909    22.454545\n",
       "Karma                         8          8.875000    20.750000\n",
       "Knight Riders                14         15.785714    25.642857\n",
       "Mission Control               2         10.000000    62.500000\n",
       "Optimus                       5          6.000000    14.000000\n",
       "Seal Team                    16         11.687500    23.437500\n",
       "The Finer Tings Club          6         10.666667    20.833333"
      ]
     },
     "execution_count": 502,
     "metadata": {},
     "output_type": "execute_result"
    }
   ],
   "source": [
    "#number of issues left in Testing and Testing lead time inside sprint\n",
    "#find the issues that are still in Testing before the end of their sprint. Only include issues that were committed \n",
    "#to in the beginning of the sprint.\n",
    "\n",
    "sprintsWithStoriesAndEpics_dfCopy = sprintsWithStoriesAndEpics_df[['Team_story', 'startDate', 'endDate', 'Testing Set To Date', 'Approval Set To Date', 'Approval Set By', 'Open Set To Date', 'key_story']].copy()\n",
    "sprintsWithStoriesAndEpics_dfCopy = sprintsWithStoriesAndEpics_dfCopy.dropna()\n",
    "sprintsWithStoriesAndEpics_dfCopy['Testing Lead Time'] = (sprintsWithStoriesAndEpics_dfCopy['endDate'] - sprintsWithStoriesAndEpics_dfCopy['Testing Set To Date']).dt.days\n",
    "\n",
    "sprintsWithStoriesAndEpics_dfCopy = sprintsWithStoriesAndEpics_dfCopy[sprintsWithStoriesAndEpics_dfCopy['Testing Lead Time'] >= 2] \n",
    "sprintsWithStoriesAndEpics_dfCopy['Ready for Approval Delay'] = (sprintsWithStoriesAndEpics_dfCopy['Approval Set To Date'] - sprintsWithStoriesAndEpics_dfCopy['endDate']).dt.days\n",
    "\n",
    "sprintsWithStoriesAndEpics_dfCopy = sprintsWithStoriesAndEpics_dfCopy[sprintsWithStoriesAndEpics_dfCopy['Ready for Approval Delay'] >= 2]\n",
    "\n",
    "sprintsWithStoriesAndEpics_dfCopy['sprintLeadTime'] = (sprintsWithStoriesAndEpics_dfCopy['startDate'] - sprintsWithStoriesAndEpics_dfCopy['Open Set To Date']).dt.days \n",
    "sprintsWithStoriesAndEpics_dfCopy['sprintCommitment'] = sprintsWithStoriesAndEpics_dfCopy['sprintLeadTime'] > -2\n",
    "\n",
    "#sprintsWithStoriesAndEpics_dfCopy = sprintsWithStoriesAndEpics_dfCopy[sprintsWithStoriesAndEpics_dfCopy['sprintCommitment']].sort_values(by='key_story')\n",
    "sprintsWithStoriesAndEpics_dfCopy['Testing Time'] = sprintsWithStoriesAndEpics_dfCopy['Testing Lead Time'] + sprintsWithStoriesAndEpics_dfCopy['Ready for Approval Delay']\n",
    "\n",
    "#write out the source data onto disk\n",
    "#however we want to write only the records which are duplicates. Better idea to remove the non duplicates.\n",
    "sprintsWithStoriesAndEpics_dfCopy.to_excel(writer, index=False, sheet_name='Testing Spillovers in Sprints', freeze_panes=(1,0), columns=['Team_story', 'startDate', 'endDate', 'Testing Set To Date', 'Approval Set To Date', 'Approval Set By', 'Open Set To Date', 'key_story', 'Testing Lead Time', 'Ready for Approval Delay', 'Testing Time'])\n",
    "\n",
    "sprintsWithStoriesAndEpics_dfCopy = sprintsWithStoriesAndEpics_dfCopy.sort_values(by='key_story').drop(columns = ['Ready for Approval Delay', 'startDate', 'endDate', 'Testing Set To Date', 'Approval Set To Date', 'Open Set To Date', 'sprintLeadTime', 'sprintCommitment', 'Approval Set By'])\n",
    "\n",
    "sprintsWithStoriesAndEpics_dfCopy.groupby(['Team_story']).agg({'key_story':['count'], 'Testing Lead Time':['mean'], 'Testing Time':['mean']})"
   ]
  },
  {
   "cell_type": "code",
   "execution_count": 321,
   "metadata": {},
   "outputs": [
    {
     "data": {
      "text/html": [
       "<h1> Calculate the Stories spilled over in the Approval State and total time to Approve on average and lead time provided by testers on average.</h1>"
      ],
      "text/plain": [
       "<IPython.core.display.HTML object>"
      ]
     },
     "metadata": {},
     "output_type": "display_data"
    }
   ],
   "source": [
    "%%html\n",
    "<h1> Calculate the Stories spilled over in the Approval State and total time to Approve on average and lead time provided by testers on average.</h1>"
   ]
  },
  {
   "cell_type": "code",
   "execution_count": 503,
   "metadata": {
    "scrolled": false
   },
   "outputs": [
    {
     "data": {
      "text/html": [
       "<div>\n",
       "<style scoped>\n",
       "    .dataframe tbody tr th:only-of-type {\n",
       "        vertical-align: middle;\n",
       "    }\n",
       "\n",
       "    .dataframe tbody tr th {\n",
       "        vertical-align: top;\n",
       "    }\n",
       "\n",
       "    .dataframe thead tr th {\n",
       "        text-align: left;\n",
       "    }\n",
       "\n",
       "    .dataframe thead tr:last-of-type th {\n",
       "        text-align: right;\n",
       "    }\n",
       "</style>\n",
       "<table border=\"1\" class=\"dataframe\">\n",
       "  <thead>\n",
       "    <tr>\n",
       "      <th></th>\n",
       "      <th>key_story</th>\n",
       "      <th>Approval Lead Time</th>\n",
       "      <th>Approval Time</th>\n",
       "    </tr>\n",
       "    <tr>\n",
       "      <th></th>\n",
       "      <th>count</th>\n",
       "      <th>mean</th>\n",
       "      <th>mean</th>\n",
       "    </tr>\n",
       "    <tr>\n",
       "      <th>Team_story</th>\n",
       "      <th></th>\n",
       "      <th></th>\n",
       "      <th></th>\n",
       "    </tr>\n",
       "  </thead>\n",
       "  <tbody>\n",
       "    <tr>\n",
       "      <th>Admin Console Builder</th>\n",
       "      <td>1</td>\n",
       "      <td>25.000000</td>\n",
       "      <td>27.000000</td>\n",
       "    </tr>\n",
       "    <tr>\n",
       "      <th>Cache Back</th>\n",
       "      <td>5</td>\n",
       "      <td>10.400000</td>\n",
       "      <td>26.200000</td>\n",
       "    </tr>\n",
       "    <tr>\n",
       "      <th>Healers</th>\n",
       "      <td>30</td>\n",
       "      <td>14.666667</td>\n",
       "      <td>27.200000</td>\n",
       "    </tr>\n",
       "    <tr>\n",
       "      <th>Karma</th>\n",
       "      <td>4</td>\n",
       "      <td>3.750000</td>\n",
       "      <td>8.750000</td>\n",
       "    </tr>\n",
       "    <tr>\n",
       "      <th>Knight Riders</th>\n",
       "      <td>1</td>\n",
       "      <td>3.000000</td>\n",
       "      <td>5.000000</td>\n",
       "    </tr>\n",
       "    <tr>\n",
       "      <th>Optimus</th>\n",
       "      <td>1</td>\n",
       "      <td>6.000000</td>\n",
       "      <td>9.000000</td>\n",
       "    </tr>\n",
       "    <tr>\n",
       "      <th>Seal Team</th>\n",
       "      <td>26</td>\n",
       "      <td>12.923077</td>\n",
       "      <td>26.923077</td>\n",
       "    </tr>\n",
       "    <tr>\n",
       "      <th>The Finer Tings Club</th>\n",
       "      <td>2</td>\n",
       "      <td>9.500000</td>\n",
       "      <td>15.500000</td>\n",
       "    </tr>\n",
       "  </tbody>\n",
       "</table>\n",
       "</div>"
      ],
      "text/plain": [
       "                      key_story Approval Lead Time Approval Time\n",
       "                          count               mean          mean\n",
       "Team_story                                                      \n",
       "Admin Console Builder         1          25.000000     27.000000\n",
       "Cache Back                    5          10.400000     26.200000\n",
       "Healers                      30          14.666667     27.200000\n",
       "Karma                         4           3.750000      8.750000\n",
       "Knight Riders                 1           3.000000      5.000000\n",
       "Optimus                       1           6.000000      9.000000\n",
       "Seal Team                    26          12.923077     26.923077\n",
       "The Finer Tings Club          2           9.500000     15.500000"
      ]
     },
     "execution_count": 503,
     "metadata": {},
     "output_type": "execute_result"
    }
   ],
   "source": [
    "#number of issues left in Approval and Approval lead time inside sprint\n",
    "\n",
    "sprintsWithStoriesAndEpics_dfCopy = sprintsWithStoriesAndEpics_df[['Team_story', 'startDate', 'endDate', 'Approval Set To Date', 'Approval Set By', 'Closed Set By', 'Open Set To Date', 'Closed Set To Date', 'key_story']].copy()\n",
    "sprintsWithStoriesAndEpics_dfCopy = sprintsWithStoriesAndEpics_dfCopy.dropna()\n",
    "\n",
    "sprintsWithStoriesAndEpics_dfCopy['Approval Lead Time'] = (sprintsWithStoriesAndEpics_dfCopy['endDate'] - sprintsWithStoriesAndEpics_dfCopy['Approval Set To Date']).dt.days\n",
    "\n",
    "sprintsWithStoriesAndEpics_dfCopy = sprintsWithStoriesAndEpics_dfCopy[sprintsWithStoriesAndEpics_dfCopy['Approval Lead Time'] >= 2] \n",
    "sprintsWithStoriesAndEpics_dfCopy['Close Delay'] = (sprintsWithStoriesAndEpics_dfCopy['Closed Set To Date'] - sprintsWithStoriesAndEpics_dfCopy['endDate']).dt.days\n",
    "\n",
    "sprintsWithStoriesAndEpics_dfCopy = sprintsWithStoriesAndEpics_dfCopy[sprintsWithStoriesAndEpics_dfCopy['Close Delay'] >= 2]\n",
    "\n",
    "sprintsWithStoriesAndEpics_dfCopy['sprintLeadTime'] = (sprintsWithStoriesAndEpics_dfCopy['startDate'] - sprintsWithStoriesAndEpics_dfCopy['Open Set To Date']).dt.days \n",
    "sprintsWithStoriesAndEpics_dfCopy['sprintCommitment'] = sprintsWithStoriesAndEpics_dfCopy['sprintLeadTime'] > -2\n",
    "#sprintsWithStoriesAndEpics_dfCopy = sprintsWithStoriesAndEpics_dfCopy[sprintsWithStoriesAndEpics_dfCopy['sprintCommitment']].sort_values(by='key_story')\n",
    "sprintsWithStoriesAndEpics_dfCopy['Approval Time'] = sprintsWithStoriesAndEpics_dfCopy['Approval Lead Time'] + sprintsWithStoriesAndEpics_dfCopy['Close Delay']\n",
    "\n",
    "#write out the source data onto disk\n",
    "#however we want to write only the records which are duplicates. Better idea to remove the non duplicates.\n",
    "sprintsWithStoriesAndEpics_dfCopy.to_excel(writer, index=False, sheet_name='Approval Spillovers in Sprints', freeze_panes=(1,0), columns=['Closed Set By', 'Team_story', 'startDate', 'endDate', 'Approval Set To Date', 'Approval Set By', 'Closed Set By', 'Open Set To Date', 'Closed Set To Date', 'key_story', 'Approval Lead Time', 'Close Delay', 'Approval Time'])\n",
    "\n",
    "#sprintsWithStoriesAndEpics_dfCopy\n",
    "sprintsWithStoriesAndEpics_dfCopy.groupby(['Team_story']).agg({'key_story':['count'], 'Approval Lead Time':['mean'], 'Approval Time':['mean']})"
   ]
  },
  {
   "cell_type": "code",
   "execution_count": 323,
   "metadata": {},
   "outputs": [
    {
     "data": {
      "text/html": [
       "<h1> Calculate the Stories spilled over in the Open/InProgress States and total time to Develop on average and lead time provided by testers on average.</h1>"
      ],
      "text/plain": [
       "<IPython.core.display.HTML object>"
      ]
     },
     "metadata": {},
     "output_type": "display_data"
    }
   ],
   "source": [
    "%%html\n",
    "<h1> Calculate the Stories spilled over in the Open/InProgress States and average development time on these stories.</h1>"
   ]
  },
  {
   "cell_type": "code",
   "execution_count": 505,
   "metadata": {},
   "outputs": [
    {
     "name": "stderr",
     "output_type": "stream",
     "text": [
      "/Users/mbhatia/anaconda3/lib/python3.6/site-packages/pandas/io/formats/excel.py:372: FutureWarning: Not all names specified in 'columns' are found; this will raise a KeyError in the future\n",
      "  FutureWarning)\n"
     ]
    },
    {
     "data": {
      "text/html": [
       "<div>\n",
       "<style scoped>\n",
       "    .dataframe tbody tr th:only-of-type {\n",
       "        vertical-align: middle;\n",
       "    }\n",
       "\n",
       "    .dataframe tbody tr th {\n",
       "        vertical-align: top;\n",
       "    }\n",
       "\n",
       "    .dataframe thead tr th {\n",
       "        text-align: left;\n",
       "    }\n",
       "\n",
       "    .dataframe thead tr:last-of-type th {\n",
       "        text-align: right;\n",
       "    }\n",
       "</style>\n",
       "<table border=\"1\" class=\"dataframe\">\n",
       "  <thead>\n",
       "    <tr>\n",
       "      <th></th>\n",
       "      <th>key_story</th>\n",
       "      <th>Dev Lead Time</th>\n",
       "      <th>Dev Time</th>\n",
       "    </tr>\n",
       "    <tr>\n",
       "      <th></th>\n",
       "      <th>count</th>\n",
       "      <th>mean</th>\n",
       "      <th>mean</th>\n",
       "    </tr>\n",
       "    <tr>\n",
       "      <th>Team_story</th>\n",
       "      <th></th>\n",
       "      <th></th>\n",
       "      <th></th>\n",
       "    </tr>\n",
       "  </thead>\n",
       "  <tbody>\n",
       "    <tr>\n",
       "      <th>Cache Back</th>\n",
       "      <td>8</td>\n",
       "      <td>12.000000</td>\n",
       "      <td>28.125000</td>\n",
       "    </tr>\n",
       "    <tr>\n",
       "      <th>Healers</th>\n",
       "      <td>17</td>\n",
       "      <td>19.470588</td>\n",
       "      <td>32.411765</td>\n",
       "    </tr>\n",
       "    <tr>\n",
       "      <th>Karma</th>\n",
       "      <td>16</td>\n",
       "      <td>16.125000</td>\n",
       "      <td>34.250000</td>\n",
       "    </tr>\n",
       "    <tr>\n",
       "      <th>Knight Riders</th>\n",
       "      <td>15</td>\n",
       "      <td>15.800000</td>\n",
       "      <td>30.000000</td>\n",
       "    </tr>\n",
       "    <tr>\n",
       "      <th>Mission Control</th>\n",
       "      <td>1</td>\n",
       "      <td>5.000000</td>\n",
       "      <td>44.000000</td>\n",
       "    </tr>\n",
       "    <tr>\n",
       "      <th>Optimus</th>\n",
       "      <td>2</td>\n",
       "      <td>3.500000</td>\n",
       "      <td>5.500000</td>\n",
       "    </tr>\n",
       "    <tr>\n",
       "      <th>Seal Team</th>\n",
       "      <td>4</td>\n",
       "      <td>7.500000</td>\n",
       "      <td>15.500000</td>\n",
       "    </tr>\n",
       "    <tr>\n",
       "      <th>Slide Tackle</th>\n",
       "      <td>1</td>\n",
       "      <td>3.000000</td>\n",
       "      <td>5.000000</td>\n",
       "    </tr>\n",
       "    <tr>\n",
       "      <th>The Finer Tings Club</th>\n",
       "      <td>8</td>\n",
       "      <td>10.500000</td>\n",
       "      <td>21.375000</td>\n",
       "    </tr>\n",
       "  </tbody>\n",
       "</table>\n",
       "</div>"
      ],
      "text/plain": [
       "                     key_story Dev Lead Time   Dev Time\n",
       "                         count          mean       mean\n",
       "Team_story                                             \n",
       "Cache Back                   8     12.000000  28.125000\n",
       "Healers                     17     19.470588  32.411765\n",
       "Karma                       16     16.125000  34.250000\n",
       "Knight Riders               15     15.800000  30.000000\n",
       "Mission Control              1      5.000000  44.000000\n",
       "Optimus                      2      3.500000   5.500000\n",
       "Seal Team                    4      7.500000  15.500000\n",
       "Slide Tackle                 1      3.000000   5.000000\n",
       "The Finer Tings Club         8     10.500000  21.375000"
      ]
     },
     "execution_count": 505,
     "metadata": {},
     "output_type": "execute_result"
    }
   ],
   "source": [
    "#number of stories left in open or in progress state\n",
    "sprintsWithStoriesAndEpics_dfCopy = sprintsWithStoriesAndEpics_df[['Open Set To Date', 'Team_story', 'startDate', 'endDate', 'In Progress Set To Date', 'In Progress Set By', 'Testing Set By', 'Testing Set To Date', 'key_story']].copy()\n",
    "sprintsWithStoriesAndEpics_dfCopy = sprintsWithStoriesAndEpics_dfCopy.dropna()\n",
    "\n",
    "sprintsWithStoriesAndEpics_dfCopy['Dev Lead Time'] = (sprintsWithStoriesAndEpics_dfCopy['endDate'] - sprintsWithStoriesAndEpics_dfCopy['In Progress Set To Date']).dt.days\n",
    "\n",
    "sprintsWithStoriesAndEpics_dfCopy = sprintsWithStoriesAndEpics_dfCopy[sprintsWithStoriesAndEpics_dfCopy['Dev Lead Time'] >= 2] \n",
    "sprintsWithStoriesAndEpics_dfCopy['Testing Delay'] = (sprintsWithStoriesAndEpics_dfCopy['Testing Set To Date'] - sprintsWithStoriesAndEpics_dfCopy['endDate']).dt.days\n",
    "\n",
    "sprintsWithStoriesAndEpics_dfCopy = sprintsWithStoriesAndEpics_dfCopy[sprintsWithStoriesAndEpics_dfCopy['Testing Delay'] >= 2]\n",
    "\n",
    "sprintsWithStoriesAndEpics_dfCopy['sprintLeadTime'] = (sprintsWithStoriesAndEpics_dfCopy['startDate'] - sprintsWithStoriesAndEpics_dfCopy['Open Set To Date']).dt.days \n",
    "sprintsWithStoriesAndEpics_dfCopy['sprintCommitment'] = sprintsWithStoriesAndEpics_dfCopy['sprintLeadTime'] > -2\n",
    "\n",
    "#sprintsWithStoriesAndEpics_dfCopy = sprintsWithStoriesAndEpics_dfCopy[sprintsWithStoriesAndEpics_dfCopy['sprintCommitment']].sort_values(by='key_story')\n",
    "sprintsWithStoriesAndEpics_dfCopy['Dev Time'] = sprintsWithStoriesAndEpics_dfCopy['Dev Lead Time'] + sprintsWithStoriesAndEpics_dfCopy['Testing Delay']\n",
    "\n",
    "#write out the source data onto disk\n",
    "#however we want to write only the records which are duplicates. Better idea to remove the non duplicates.\n",
    "sprintsWithStoriesAndEpics_dfCopy.to_excel(writer, index=False, sheet_name='In Progress Sprint Spillovers', freeze_panes=(1,0), columns=['Open Set To Date', 'In Progress Set By', 'Team_story', 'startDate', 'endDate', 'In Progress To Date', 'In Progress Set By', 'key_story', 'Dev Lead Time', 'Testing Delay', 'Dev Time'])\n",
    "\n",
    "sprintsWithStoriesAndEpics_dfCopy.groupby(['Team_story']).agg({'key_story':['count'], 'Dev Lead Time':['mean'], 'Dev Time':['mean']})\n"
   ]
  },
  {
   "cell_type": "code",
   "execution_count": 325,
   "metadata": {},
   "outputs": [
    {
     "data": {
      "text/html": [
       "<h1> Calculate the Stories not having any mention of AC or Acceptance.</h1>"
      ],
      "text/plain": [
       "<IPython.core.display.HTML object>"
      ]
     },
     "metadata": {},
     "output_type": "display_data"
    }
   ],
   "source": [
    "%%html\n",
    "<h1> Calculate the Stories not having any mention of AC or Acceptance.</h1>"
   ]
  },
  {
   "cell_type": "code",
   "execution_count": 326,
   "metadata": {},
   "outputs": [],
   "source": [
    "#this is a list of strings\n",
    "#scope_df['textinfo'] = scope_df['textinfo_story'] + scope_df['textinfo_epic']\n",
    "scope_df['textinfo'] = scope_df['textinfo_story']"
   ]
  },
  {
   "cell_type": "code",
   "execution_count": 327,
   "metadata": {},
   "outputs": [],
   "source": [
    "scope_df['Invalid AC'] = scope_df['textinfo'].str.contains('Acceptance|AC', case = False, regex = True) == False\n",
    "\n",
    "#write out the source data onto disk\n",
    "#however we want to write only the records which are duplicates. Better idea to remove the non duplicates.\n",
    "scope_df[scope_df['Invalid AC']].to_excel(writer, index=False, sheet_name='Invalid AC', freeze_panes=(1,0), columns=['Team_story', 'key_story', 'reporter_story'])\n"
   ]
  },
  {
   "cell_type": "code",
   "execution_count": 328,
   "metadata": {},
   "outputs": [],
   "source": [
    "invalid_ac_df = scope_df[['reporter_story', 'Invalid AC']].copy()"
   ]
  },
  {
   "cell_type": "code",
   "execution_count": 329,
   "metadata": {},
   "outputs": [
    {
     "data": {
      "text/html": [
       "<div>\n",
       "<style scoped>\n",
       "    .dataframe tbody tr th:only-of-type {\n",
       "        vertical-align: middle;\n",
       "    }\n",
       "\n",
       "    .dataframe tbody tr th {\n",
       "        vertical-align: top;\n",
       "    }\n",
       "\n",
       "    .dataframe thead th {\n",
       "        text-align: right;\n",
       "    }\n",
       "</style>\n",
       "<table border=\"1\" class=\"dataframe\">\n",
       "  <thead>\n",
       "    <tr style=\"text-align: right;\">\n",
       "      <th></th>\n",
       "      <th>Invalid AC</th>\n",
       "    </tr>\n",
       "    <tr>\n",
       "      <th>reporter_story</th>\n",
       "      <th></th>\n",
       "    </tr>\n",
       "  </thead>\n",
       "  <tbody>\n",
       "    <tr>\n",
       "      <th>sami.ahmed</th>\n",
       "      <td>7.0</td>\n",
       "    </tr>\n",
       "    <tr>\n",
       "      <th>kyle.mills</th>\n",
       "      <td>4.0</td>\n",
       "    </tr>\n",
       "    <tr>\n",
       "      <th>jayanth.prathipati</th>\n",
       "      <td>4.0</td>\n",
       "    </tr>\n",
       "    <tr>\n",
       "      <th>addisu.alemu</th>\n",
       "      <td>4.0</td>\n",
       "    </tr>\n",
       "    <tr>\n",
       "      <th>vishal.bhosale</th>\n",
       "      <td>1.0</td>\n",
       "    </tr>\n",
       "  </tbody>\n",
       "</table>\n",
       "</div>"
      ],
      "text/plain": [
       "                    Invalid AC\n",
       "reporter_story                \n",
       "sami.ahmed                 7.0\n",
       "kyle.mills                 4.0\n",
       "jayanth.prathipati         4.0\n",
       "addisu.alemu               4.0\n",
       "vishal.bhosale             1.0"
      ]
     },
     "execution_count": 329,
     "metadata": {},
     "output_type": "execute_result"
    }
   ],
   "source": [
    "#produce statistics for valid/invalid AC\n",
    "invalid_ac_df.groupby(['reporter_story']).sum().sort_values(by=['Invalid AC'], ascending=False).head()"
   ]
  },
  {
   "cell_type": "code",
   "execution_count": null,
   "metadata": {},
   "outputs": [],
   "source": [
    "writer.save()"
   ]
  },
  {
   "cell_type": "code",
   "execution_count": null,
   "metadata": {},
   "outputs": [],
   "source": []
  },
  {
   "cell_type": "code",
   "execution_count": null,
   "metadata": {},
   "outputs": [],
   "source": [
    "%%html\n",
    "<h1> Phase 2: Learning.</h1>"
   ]
  },
  {
   "cell_type": "code",
   "execution_count": null,
   "metadata": {},
   "outputs": [],
   "source": [
    "dataset1 = pd.DataFrame(scope_df, columns = ['Epic Name', 'textinfo'])\n",
    "dataset1.dropna(inplace=True)"
   ]
  },
  {
   "cell_type": "code",
   "execution_count": null,
   "metadata": {},
   "outputs": [],
   "source": [
    "from sklearn.feature_extraction.text import TfidfVectorizer\n",
    "from sklearn.naive_bayes import MultinomialNB\n",
    "\n",
    "#create document vectors\n",
    "\n",
    "vectorizer = TfidfVectorizer()\n",
    "vectors_ds1 = vectorizer.fit_transform(dataset1.textinfo)"
   ]
  },
  {
   "cell_type": "code",
   "execution_count": null,
   "metadata": {},
   "outputs": [],
   "source": [
    "#split this into training and test data\n",
    "from sklearn.model_selection import train_test_split\n",
    "\n",
    "predictors = vectors_ds1\n",
    "targets = dataset1['Epic Name']\n",
    "\n",
    "pred_train, pred_test, tar_train, tar_test  =   train_test_split(predictors, targets, test_size=.20)"
   ]
  },
  {
   "cell_type": "code",
   "execution_count": null,
   "metadata": {},
   "outputs": [],
   "source": [
    "clf = MultinomialNB()\n",
    "clf.fit(pred_train, tar_train)"
   ]
  },
  {
   "cell_type": "code",
   "execution_count": null,
   "metadata": {},
   "outputs": [],
   "source": [
    "predictions = clf.predict(pred_test)"
   ]
  },
  {
   "cell_type": "code",
   "execution_count": null,
   "metadata": {},
   "outputs": [],
   "source": [
    "import sklearn.metrics\n",
    "\n",
    "sklearn.metrics.confusion_matrix(tar_test,predictions)\n",
    "sklearn.metrics.accuracy_score(tar_test, predictions)"
   ]
  },
  {
   "cell_type": "code",
   "execution_count": null,
   "metadata": {},
   "outputs": [],
   "source": [
    "pred_train.size"
   ]
  },
  {
   "cell_type": "code",
   "execution_count": null,
   "metadata": {},
   "outputs": [],
   "source": [
    "vectors_ds1"
   ]
  },
  {
   "cell_type": "code",
   "execution_count": null,
   "metadata": {},
   "outputs": [],
   "source": []
  }
 ],
 "metadata": {
  "kernelspec": {
   "display_name": "Python 3",
   "language": "python",
   "name": "python3"
  },
  "language_info": {
   "codemirror_mode": {
    "name": "ipython",
    "version": 3
   },
   "file_extension": ".py",
   "mimetype": "text/x-python",
   "name": "python",
   "nbconvert_exporter": "python",
   "pygments_lexer": "ipython3",
   "version": "3.6.4"
  }
 },
 "nbformat": 4,
 "nbformat_minor": 2
}
